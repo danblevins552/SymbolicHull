{
 "cells": [
  {
   "cell_type": "markdown",
   "metadata": {},
   "source": [
    "## Imports and Functions"
   ]
  },
  {
   "cell_type": "code",
   "execution_count": null,
   "metadata": {},
   "outputs": [],
   "source": [
    "import numpy as np\n",
    "import matplotlib.pyplot as plt\n",
    "import sympy as sp\n",
    "\n",
    "# symbols\n",
    "x = sp.symbols('x')\n",
    "\n",
    "# define some plotting here to streamline the notebook\n",
    "def plot_funcs(p1, p2, xlim=None, ylim=None):\n",
    "\n",
    "    if xlim is not None:\n",
    "        x_vals = np.linspace(xlim[0], xlim[1], 5000)\n",
    "        plt.xlim(xlim)\n",
    "    else:\n",
    "        x_vals = np.linspace(-10, 10, 5000)\n",
    "\n",
    "    if ylim is not None:\n",
    "        plt.ylim(ylim)\n",
    "\n",
    "    # plot the functions\n",
    "    p1_vals = [p1.subs(x, val) for val in x_vals]\n",
    "    p2_vals = [p2.subs(x, val) for val in x_vals]\n",
    "\n",
    "    plt.plot(x_vals, p1_vals, label=str(p1))\n",
    "    plt.plot(x_vals, p2_vals, label=str(p2))\n",
    "\n",
    "    plt.legend()\n",
    "    plt.grid()\n",
    "\n",
    "    # compute the simplices\n",
    "    simplices = compute_simplices(p1, p2)\n",
    "\n",
    "    # plot the first simplex\n",
    "    try:\n",
    "        plt.plot(simplices[0][:, 0], simplices[0][:, 1], color='red', marker='o')\n",
    "    except:\n",
    "        pass\n",
    "\n",
    "    # plot the second simplex\n",
    "    try:\n",
    "        plt.plot(simplices[1][:, 0], simplices[1][:, 1], color='red', marker='o')\n",
    "    except:\n",
    "        pass\n",
    "\n",
    "    plt.show()\n",
    "\n",
    "# this is the important math\n",
    "def compute_simplices(p1, p2):\n",
    "    a = sp.symbols('a')\n",
    "\n",
    "    # compute the derivatives\n",
    "    p1_prime = sp.diff(p1, x)\n",
    "    p2_prime = sp.diff(p2, x)\n",
    "\n",
    "    # compute the projected space\n",
    "    proj_two_onto_one = p2 - p1.subs(x, a) - p1_prime.subs(x, a)*(x-a)\n",
    "    proj_one_onto_two = p1 - p2.subs(x, a) - p2_prime.subs(x, a)*(x-a)\n",
    "\n",
    "    # compute the discriminants of the porjections\n",
    "    discriminant_1 = sp.discriminant(proj_two_onto_one, x)\n",
    "    discriminant_2 = sp.discriminant(proj_one_onto_two, x)\n",
    "\n",
    "    # solve the discriminants\n",
    "    p1_xvals = sp.solve(discriminant_1, a)\n",
    "    p1_xvals = [sol.evalf() for sol in p1_xvals]\n",
    "\n",
    "    p2_xvals = sp.solve(discriminant_2, a)\n",
    "    p2_xvals = [sol.evalf() for sol in p2_xvals]\n",
    "\n",
    "    # compute the coorsponding y values\n",
    "    p1_yvals = [p1.subs(x, val) for val in p1_xvals]\n",
    "    p2_yvals = [p2.subs(x, val) for val in p2_xvals]\n",
    "\n",
    "    # combine the coordinates\n",
    "    simplices = []\n",
    "    for i in range(2):\n",
    "        try:\n",
    "            x1 = p1_xvals[i]\n",
    "            y1 = p1_yvals[i]\n",
    "            x2 = p2_xvals[i]\n",
    "            y2 = p2_yvals[i]\n",
    "            simplex = np.asarray([[x1, y1], [x2, y2]])\n",
    "            simplices.append(simplex)\n",
    "        except:\n",
    "            pass\n",
    "\n",
    "    return simplices"
   ]
  },
  {
   "cell_type": "markdown",
   "metadata": {},
   "source": [
    "## Demo\n",
    "\n",
    "The coordinates of the tangent points on $f_1$ defining the bounding convex hyperplane between $f_1$ and $f_2$ are given by the roots of this equation in $t$:\n",
    "$$\\boldsymbol{\\Delta} \\left( \\begin{bmatrix}\n",
    "  x - t\\\\\n",
    "  f_2(x) - f_1(t)\n",
    "\\end{bmatrix} \\cdot \\begin{bmatrix}\n",
    "  - \\nabla f_1(x)|_t\\\\\n",
    "  1\n",
    "\\end{bmatrix} \\right)\n",
    " = 0\n",
    "$$"
   ]
  },
  {
   "cell_type": "code",
   "execution_count": null,
   "metadata": {},
   "outputs": [],
   "source": [
    "# define your parabolas\n",
    "p1 = x**2 + 3*x - 2\n",
    "p2 = 3*x**2 - 4*x - 5\n",
    "\n",
    "# plot the functions\n",
    "plot_funcs(p1, p2, xlim=[-4, 3], ylim=[-8, 8])"
   ]
  },
  {
   "cell_type": "code",
   "execution_count": null,
   "metadata": {},
   "outputs": [],
   "source": [
    "p1 = (x-1)**2 - 4\n",
    "p2 = 5*(x-1)**2 - 8\n",
    "\n",
    "# plot the functions\n",
    "plot_funcs(p1, p2, xlim=[-3, 5], ylim=[-9, 8])"
   ]
  },
  {
   "cell_type": "code",
   "execution_count": null,
   "metadata": {},
   "outputs": [],
   "source": [
    "p1 = (x-3)**2 + 1\n",
    "p2 = (x-1)**2 - 4\n",
    "\n",
    "# plot the functions\n",
    "plot_funcs(p1, p2, xlim=[-3, 5], ylim=[-9, 8])"
   ]
  },
  {
   "cell_type": "code",
   "execution_count": null,
   "metadata": {},
   "outputs": [],
   "source": [
    "p1 = (x-1)**2 - 4\n",
    "p2 = (x-1)**2 - 8\n",
    "\n",
    "# plot the functions\n",
    "plot_funcs(p1, p2, xlim=[-3, 5], ylim=[-9, 8])"
   ]
  },
  {
   "cell_type": "code",
   "execution_count": null,
   "metadata": {},
   "outputs": [],
   "source": []
  }
 ],
 "metadata": {
  "kernelspec": {
   "display_name": "python3.12",
   "language": "python",
   "name": "python3"
  },
  "language_info": {
   "codemirror_mode": {
    "name": "ipython",
    "version": 3
   },
   "file_extension": ".py",
   "mimetype": "text/x-python",
   "name": "python",
   "nbconvert_exporter": "python",
   "pygments_lexer": "ipython3",
   "version": "3.12.5"
  }
 },
 "nbformat": 4,
 "nbformat_minor": 2
}
