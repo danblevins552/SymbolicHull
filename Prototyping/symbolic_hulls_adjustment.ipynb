{
 "cells": [
  {
   "cell_type": "code",
   "execution_count": null,
   "metadata": {},
   "outputs": [],
   "source": [
    "import numpy as np\n",
    "import sympy as sp\n",
    "from sympy import symbols, log, lambdify, primitive\n",
    "from matplotlib import pyplot as plt\n",
    "from symbolic_hulls_func_aggr import *"
   ]
  },
  {
   "cell_type": "code",
   "execution_count": null,
   "metadata": {},
   "outputs": [],
   "source": [
    "from sympy import primitive\n",
    "\n",
    "def taylor_approximation(f, x, a):\n",
    "    \"\"\"\n",
    "    Computes the Taylor series approximation of f up to degree 2 centered at x = a.\n",
    "    \n",
    "    Parameters:\n",
    "    f : sympy expression\n",
    "        The function to approximate.\n",
    "    x : sympy symbol\n",
    "        The variable in the function.\n",
    "    a : value\n",
    "        The point around which to expand the function.\n",
    "    \n",
    "    Returns:\n",
    "    sympy expression\n",
    "        The quadratic Taylor approximation.\n",
    "    \"\"\"\n",
    "    f_a = f.subs(x, a)\n",
    "    f_prime = sp.diff(f, x).subs(x, a) * (x - a)\n",
    "    f_double_prime = sp.diff(f, x, x).subs(x, a) * (x - a)**2 / 2\n",
    "    \n",
    "    return f_a + f_prime + f_double_prime\n",
    "\n",
    "def transform_diff(f1, f2):       \n",
    "    free_symbols_f1 = f1.free_symbols\n",
    "    free_symbols_f2 = f2.free_symbols\n",
    "\n",
    "    variables = tuple(free_symbols_f1.intersection(free_symbols_f2))\n",
    "    pvariables = tuple(sp.symbols(f'{symbol}_p') for symbol in variables)\n",
    "\n",
    "    pvariables_dict = dict(zip(variables, pvariables))\n",
    "\n",
    "    pgrad_f1 = gradient(f1.subs(pvariables_dict), pvariables)\n",
    "    \n",
    "    transform_1 = td_legendre_transform(variables, pgrad_f1, f2)\n",
    "    transform_2 = td_legendre_transform(pvariables, pgrad_f1, f1.subs(pvariables_dict))\n",
    "\n",
    "    return primitive(transform_1 - transform_2)[1]"
   ]
  },
  {
   "cell_type": "code",
   "execution_count": null,
   "metadata": {},
   "outputs": [],
   "source": [
    "x = symbols('x')\n",
    "f1 = 2*x*log(x)\n",
    "f2 = (2-x)*log(2-x)+ .5\n",
    "\n",
    "f1_numeric = lambdify(x, f1, 'numpy')\n",
    "f2_numeric = lambdify(x, f2, 'numpy')"
   ]
  },
  {
   "cell_type": "code",
   "execution_count": null,
   "metadata": {},
   "outputs": [],
   "source": [
    "# Boudnary 1\n",
    "proj = transform_diff(f1, f2)\n",
    "a = sp.solve(sp.Eq(sp.diff(proj, x), 0))[0][x]\n",
    "proj_approx = taylor_approximation(proj, x, a)\n",
    "boundary1 = sp.discriminant(proj_approx, x)\n",
    "boundary1_numeric = lambdify(boundary1.free_symbols.pop(), boundary1, 'numpy')"
   ]
  },
  {
   "cell_type": "code",
   "execution_count": null,
   "metadata": {},
   "outputs": [],
   "source": [
    "# Boudnary 2\n",
    "proj = transform_diff(f2, f1)\n",
    "a = sp.solve(sp.Eq(sp.diff(proj, x), 0))[0][x]\n",
    "proj_approx = taylor_approximation(proj, x, a)\n",
    "boundary2 = sp.discriminant(proj_approx, x)\n",
    "boundary2_numeric = lambdify(boundary2.free_symbols.pop(), boundary2, 'numpy')"
   ]
  },
  {
   "cell_type": "code",
   "execution_count": null,
   "metadata": {},
   "outputs": [],
   "source": [
    "# Solve the boundaries\n",
    "from scipy.optimize import fsolve\n",
    "\n",
    "x1 = fsolve(boundary1_numeric, 0.5)\n",
    "x2 = fsolve(boundary2_numeric, 1.7)\n",
    "\n",
    "print(x1, x2)"
   ]
  },
  {
   "cell_type": "code",
   "execution_count": null,
   "metadata": {},
   "outputs": [],
   "source": [
    "# Define x range while avoiding log domain issues\n",
    "x_vals = np.linspace(0.01, 1.99, 400)  # Avoid x=0 and x=2 where log is undefined\n",
    "\n",
    "# Compute y values\n",
    "y1_vals = f1_numeric(x_vals)\n",
    "y2_vals = f2_numeric(x_vals)\n",
    "y3_vals = boundary1_numeric(x_vals)\n",
    "y4_vals = boundary2_numeric(x_vals)\n",
    "\n",
    "# Plot the functions\n",
    "plt.figure(figsize=(8, 6))\n",
    "plt.plot(x_vals, y1_vals, label=r'$f_1(x) = 2x \\ln(x)$', color='blue')\n",
    "plt.plot(x_vals, y2_vals, label=r'$f_2(x) = (2-x) \\ln(2-x) + 0.5$', color='red')\n",
    "# plt.plot(x_vals, y3_vals, label=r'projection 1', color='green')\n",
    "# plt.plot(x_vals, y4_vals, label=r'projection 2', color='green')\n",
    "\n",
    "# Plot the boundaries\n",
    "plt.scatter(x1, f1_numeric(x1), color='black', zorder=5)\n",
    "plt.scatter(x2, f2_numeric(x2), color='black', zorder=5)\n",
    "\n",
    "# Formatting the plot\n",
    "plt.xlabel('x')\n",
    "plt.ylabel('f(x)')\n",
    "plt.title('Plot of $f_1(x)$ and $f_2(x)$')\n",
    "plt.axhline(0, color='black', linewidth=0.5, linestyle='--')\n",
    "plt.axvline(0, color='black', linewidth=0.5, linestyle='--')\n",
    "plt.xlim(0, 2)\n",
    "plt.ylim(-1, 1)\n",
    "plt.legend()\n",
    "plt.grid(True)\n",
    "\n",
    "# Show the plot\n",
    "plt.show()\n"
   ]
  },
  {
   "cell_type": "markdown",
   "metadata": {},
   "source": [
    "## Here I am going to try to see if the math simplifies"
   ]
  },
  {
   "cell_type": "code",
   "execution_count": null,
   "metadata": {},
   "outputs": [],
   "source": [
    "import sympy as sp\n",
    "\n",
    "x, t = sp.symbols('x, t')\n",
    "f1 = sp.Function('f_1')(x)\n",
    "f2 = sp.Function('f_2')(x)\n",
    "\n",
    "f_sol = sp.Function('f_sol')(t)"
   ]
  },
  {
   "cell_type": "code",
   "execution_count": null,
   "metadata": {},
   "outputs": [],
   "source": [
    "proj = f2 - f1.subs(x, t) - sp.Derivative(f1.subs(x, t), t) * (x - t)"
   ]
  },
  {
   "cell_type": "code",
   "execution_count": null,
   "metadata": {},
   "outputs": [],
   "source": [
    "proj_taylor = proj.subs(x, f_sol) + sp.Derivative(proj, x).subs(x, f_sol) * (x - f_sol) + sp.Derivative(proj, x, x).subs(x, f_sol) * (x - f_sol)**2 / 2\n",
    "proj_taylor"
   ]
  },
  {
   "cell_type": "code",
   "execution_count": null,
   "metadata": {},
   "outputs": [],
   "source": [
    "A = sp.expand(proj_taylor).coeff(x, 2)\n",
    "B = sp.expand(proj_taylor).coeff(x, 1)\n",
    "C = sp.expand(proj_taylor).coeff(x, 0)"
   ]
  },
  {
   "cell_type": "code",
   "execution_count": null,
   "metadata": {},
   "outputs": [],
   "source": [
    "disc = B**2 - 4*A*C\n",
    "disc"
   ]
  },
  {
   "cell_type": "code",
   "execution_count": null,
   "metadata": {},
   "outputs": [],
   "source": [
    "disc_simple = sp.simplify(sp.Eq(disc, 0))\n",
    "disc_simple"
   ]
  },
  {
   "cell_type": "code",
   "execution_count": null,
   "metadata": {},
   "outputs": [],
   "source": []
  }
 ],
 "metadata": {
  "kernelspec": {
   "display_name": "python3.12",
   "language": "python",
   "name": "python3"
  },
  "language_info": {
   "codemirror_mode": {
    "name": "ipython",
    "version": 3
   },
   "file_extension": ".py",
   "mimetype": "text/x-python",
   "name": "python",
   "nbconvert_exporter": "python",
   "pygments_lexer": "ipython3",
   "version": "3.12.8"
  }
 },
 "nbformat": 4,
 "nbformat_minor": 2
}
