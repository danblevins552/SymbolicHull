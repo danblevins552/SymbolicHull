{
 "cells": [
  {
   "cell_type": "code",
   "execution_count": null,
   "metadata": {},
   "outputs": [],
   "source": [
    "from symbolic_hulls_func_aggr import *\n",
    "\n",
    "from itertools import combinations\n",
    "from collections import defaultdict"
   ]
  },
  {
   "cell_type": "markdown",
   "metadata": {},
   "source": [
    "#### Theory\n",
    "The solution to this equation is the bounding hyperplane of the two-phase coexistence region between f1 and f2 that lies on f1\n",
    "\n",
    "$$\\Delta \\left( \\mathcal{L}(\\vec{x}, \\nabla f_1(t); f_2) - \\mathcal{L}(\\vec{t}, \\nabla f_1(t); f_1) \\right) = 0$$\n",
    "\n",
    "where $\\mathcal{L}$ is the thermodynamic Legendre transform defined as $$\\mathcal{L}(\\vec{x}, \\vec{p}; f) \\equiv f - \\sum_i{x_i p_i}$$"
   ]
  },
  {
   "cell_type": "code",
   "execution_count": null,
   "metadata": {},
   "outputs": [],
   "source": [
    "# define your funcitons here in explicit form\n",
    "x, y, z = sp.symbols('x y z')\n",
    "\n",
    "# define your funcitons here in explicit form\n",
    "f1 = x**2 + y**2 + z**2\n",
    "f2 = (x-1)**2 + (y+4)**2 + 1 + (z - 2)**2\n",
    "f3 = (x+3)**2 + (y+2)**2 + 1 + (z + 3)**2\n",
    "f4 = (x-3)**2 + (y-2)**2 + 2 + (z - 3)**2\n",
    "\n",
    "phases = [f1, f2, f3, f4]"
   ]
  },
  {
   "cell_type": "code",
   "execution_count": null,
   "metadata": {},
   "outputs": [],
   "source": [
    "# Record the index of the phase and the number of phases\n",
    "phases = [(i, phase) for i, phase in enumerate(phases)]\n",
    "\n",
    "# Initialize the dictionary to store boundaries with defaultdict\n",
    "boundaries = defaultdict(list)\n",
    "\n",
    "# Iterate over the phase pairs to plot the boundaries\n",
    "phase_pairs = list(combinations(phases, 2))\n",
    "\n",
    "for phase_pair in phase_pairs:\n",
    "    f1_label = phase_pair[0][0]\n",
    "    f1_func = phase_pair[0][1]\n",
    "\n",
    "    f2_label = phase_pair[1][0]\n",
    "    f2_func = phase_pair[1][1]    \n",
    "\n",
    "    # Generate boundary values for f1f2 and f2f1\n",
    "    f1f2 = hpboundry_f2_to_f1(f1_func, f2_func)\n",
    "    f2f1 = hpboundry_f2_to_f1(f2_func, f1_func)\n",
    "\n",
    "    # Append the boundary values to the respective lists in the defaultdict\n",
    "    boundaries[f1_label].append(f1f2)\n",
    "    boundaries[f2_label].append(f2f1)\n",
    "\n",
    "boundaries = dict(boundaries)"
   ]
  },
  {
   "cell_type": "code",
   "execution_count": null,
   "metadata": {},
   "outputs": [],
   "source": [
    "display(boundaries)"
   ]
  },
  {
   "cell_type": "code",
   "execution_count": null,
   "metadata": {},
   "outputs": [],
   "source": []
  }
 ],
 "metadata": {
  "kernelspec": {
   "display_name": "python3.12",
   "language": "python",
   "name": "python3"
  },
  "language_info": {
   "codemirror_mode": {
    "name": "ipython",
    "version": 3
   },
   "file_extension": ".py",
   "mimetype": "text/x-python",
   "name": "python",
   "nbconvert_exporter": "python",
   "pygments_lexer": "ipython3",
   "version": "3.12.8"
  }
 },
 "nbformat": 4,
 "nbformat_minor": 2
}
