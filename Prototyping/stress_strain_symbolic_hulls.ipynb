{
 "cells": [
  {
   "cell_type": "code",
   "execution_count": null,
   "metadata": {},
   "outputs": [],
   "source": [
    "from symbolic_hulls_func_aggr import *\n",
    "\n",
    "# Geometry\n",
    "from shapely.geometry import Polygon\n",
    "from shapely.ops import unary_union\n",
    "\n",
    "# Data handling and combinations\n",
    "from itertools import cycle\n",
    "from collections import defaultdict\n",
    "\n",
    "# Plotly imports\n",
    "import plotly.graph_objects as go\n"
   ]
  },
  {
   "cell_type": "markdown",
   "metadata": {},
   "source": [
    "## Functions"
   ]
  },
  {
   "cell_type": "code",
   "execution_count": null,
   "metadata": {},
   "outputs": [],
   "source": [
    "def compute_strain_energy_polynomial(elasTens, v_mol):\n",
    "    \"\"\"\n",
    "    Compute a polynomial representation of the strain energy for 1 mole of material.\n",
    "\n",
    "    This is achieved by multiplying the strain energy density function (defined as \n",
    "    a quadratic form involving the elastic tensor and strain vector) by the molar \n",
    "    volume of the material.\n",
    "\n",
    "    Parameters:\n",
    "        elasTens (list or array-like): A 6x6 elastic tensor in Voigt notation, representing\n",
    "                                    the stiffness matrix of the material.\n",
    "        v_mol (float): The molar volume of the material, in units consistent with the elastic tensor.\n",
    "\n",
    "    Returns:\n",
    "        sympy expression: A simplified polynomial expression representing the strain energy\n",
    "                        as a function of the strain components (e_1, e_2, ..., e_6).\n",
    "                        Numerical coefficients are rounded to the nearest integer.\n",
    "    \"\"\"\n",
    "\n",
    "    e1, e2, e3, e4, e5, e6 = sp.symbols('e1 e2 e3 e4 e5 e6')\n",
    "    strain = sp.Matrix([e1, e2, e3, e4, e5, e6])\n",
    "    elastic_tensor = sp.Matrix(elasTens)\n",
    "    strain_energy = 0.5 * v_mol * strain.T * elastic_tensor * strain\n",
    "\n",
    "    strain_energy = sp.simplify(strain_energy)[0]\n",
    "\n",
    "    return strain_energy.replace(lambda term: term.is_Number, lambda term: int(round(term, 0)))"
   ]
  },
  {
   "cell_type": "markdown",
   "metadata": {},
   "source": [
    "## Example"
   ]
  },
  {
   "cell_type": "code",
   "execution_count": null,
   "metadata": {},
   "outputs": [],
   "source": [
    "# a quick proof of concept\n",
    "\n",
    "bV2O5_eTens =  [[271.8554647757902, 64.62325221396486, 27.224912079571325, -1.7191866738895836, -0.0025286851971816067, -0.002124003],\n",
    "                [64.62325221396486, 197.89991427799202, 12.453223957658249, 2.119618147614496, -0.01514585462756177, -0.00177122],\n",
    "                [27.224912079571325, 12.453223957658249, 33.120429472730564, 2.3253632154077684, -0.04857597532521658, -0.004906421],\n",
    "                [-1.7191866738895836, 2.119618147614496, 2.3253632154077684, 33.84674175649386, 0.012452724999999758, -0.000364988],\n",
    "                [-0.0025286851971816067, -0.01514585462756177, -0.04857597532521658, 0.012452724999999758, 28.376899505970716, -6.704158046],\n",
    "                [-0.002124003437466659, -0.0017712195119971308, -0.0049064205224106806, -0.0003649875000002795, -6.704158045891168, 72.27092569]]\n",
    "\n",
    "bV2O5_v_mol = 48.502\n",
    "\n",
    "# this is the polynomial representation of the strain energy for 1 mole of bV2O5\n",
    "bV2O5_energy = compute_strain_energy_polynomial(bV2O5_eTens, bV2O5_v_mol)\n",
    "\n",
    "aV2O5_eTens =  [[266.47365146395515, 43.15159737260626, 119.5698396037316, -0.021969906572240724, -0.008038178036991589, -0.051846511],\n",
    "                [43.15159737260626, 39.321322564273274, 60.251064113829564, -0.23774907491360064, 0.07308114151937194, -0.413241737],\n",
    "                [119.5698396037316, 60.251064113829564, 222.77826373647477, 0.06535684464073953, -0.032256197469259985, 0.056397909],\n",
    "                [-0.021969906572240724, -0.23774907491360064, 0.06535684464073953, 40.92316299266148, 0.0, -9.16E-18],\n",
    "                [-0.008038178036991589, 0.07308114151937194, -0.032256197469259985, 0.0, 44.326459555780836, -1.34E-15],\n",
    "                [-0.05184651084026355, -0.4132417369611278, 0.05639790945728265, -9.162304888641942e-18, -1.3365143026749432e-15, 33.76154876]]\n",
    "\n",
    "aV2O5_v_mol = 52.872\n",
    "\n",
    "# this is the polynomial representation of the strain energy for 1 mole of aV2O5\n",
    "aV2O5_energy = compute_strain_energy_polynomial(aV2O5_eTens, aV2O5_v_mol)\n",
    "\n",
    "e1, e2, e3, e4, e5, e6 = sp.symbols('e1 e2 e3 e4 e5 e6')\n",
    "E = sp.symbols('E')\n",
    "display(sp.Eq(E,bV2O5_energy), sp.Eq(E,aV2O5_energy))"
   ]
  },
  {
   "cell_type": "code",
   "execution_count": null,
   "metadata": {},
   "outputs": [],
   "source": [
    "boundary1 = hpboundry_f2_to_f1(aV2O5_energy, bV2O5_energy)\n",
    "boundary2 = hpboundry_f2_to_f1(bV2O5_energy, aV2O5_energy)\n",
    "display(sp.Eq(0,boundary1), sp.Eq(0,boundary2))"
   ]
  },
  {
   "cell_type": "markdown",
   "metadata": {},
   "source": [
    "## Work in progress below:"
   ]
  },
  {
   "cell_type": "code",
   "execution_count": null,
   "metadata": {},
   "outputs": [],
   "source": [
    "def plot_high_dimensional_phase_diagram(points, labels, feature_indices = [0,1]):\n",
    "    '''This will plot the phase diagram with a convex hull'''\n",
    "\n",
    "    # Calculate the convex hull\n",
    "    simplices = lower_convex_hull(points)\n",
    "\n",
    "    # colors to cycle through\n",
    "    color_cycle = cycle(['blue', 'red', 'yellow', 'green', 'purple', 'cyan', 'orange', 'pink', 'brown', 'gray'])\n",
    "    \n",
    "    colored_faces = defaultdict(list)\n",
    "\n",
    "    label_color_map = {}\n",
    "    for simplex in simplices:\n",
    "        unique_labels = frozenset(labels[simplex])  # Using frozenset to make it hashable\n",
    "\n",
    "        # Check if we already have a color for this unique label set\n",
    "        if unique_labels not in label_color_map:\n",
    "            # Assign a new color from the cycle\n",
    "            label_color_map[unique_labels] = next(color_cycle)\n",
    "\n",
    "        color = label_color_map[unique_labels]\n",
    "        \n",
    "        # Extract the coordinates\n",
    "        x_coords = points[simplex, feature_indices[0]]\n",
    "        y_coords = points[simplex, feature_indices[1]]\n",
    "\n",
    "        # Create a 2D polygon and add it to the color group for 2D projection\n",
    "        polygon = Polygon(zip(x_coords, y_coords))  # Projected onto xy-plane\n",
    "        colored_faces[color].append(polygon)\n",
    "\n",
    "    fig = go.Figure()\n",
    "\n",
    "    # Combine polygons that share edges for each color\n",
    "    for color in colored_faces:\n",
    "        # Combine the list of polygons into a single geometry\n",
    "        combined_polygon = unary_union(colored_faces[color])\n",
    "        # Replace the list with the combined polygon\n",
    "        colored_faces[color] = combined_polygon\n",
    "\n",
    "    for color, geometry in colored_faces.items():\n",
    "        # Handle both Polygon and MultiPolygon geometries\n",
    "        if geometry.geom_type == 'Polygon':\n",
    "            geometries = [geometry]\n",
    "        elif geometry.geom_type == 'MultiPolygon':\n",
    "            geometries = geometry.geoms\n",
    "        else:\n",
    "            continue  # Skip if not a polygonal geometry\n",
    "\n",
    "        for poly in geometries:\n",
    "            x, y = list(poly.exterior.xy[0]), list(poly.exterior.xy[1])\n",
    "            fig.add_trace(go.Scatter(\n",
    "                x=x,\n",
    "                y=y,\n",
    "                fill=\"toself\",\n",
    "                mode=\"none\",\n",
    "                fillcolor=color,\n",
    "                opacity=0.5,\n",
    "                name=f\"2D Projection - {color}\"\n",
    "            ))\n",
    "\n",
    "            # Plot interior rings (holes) if any\n",
    "            for interior in poly.interiors:\n",
    "                x_int, y_int = interior.xy\n",
    "                fig.add_trace(go.Scatter(\n",
    "                    x=x_int,\n",
    "                    y=y_int,\n",
    "                    fill=\"toself\",\n",
    "                    mode=\"none\",\n",
    "                    fillcolor='white',\n",
    "                    opacity=1,\n",
    "                    showlegend=False\n",
    "                ))\n",
    "\n",
    "    # Update layout\n",
    "    fig.update_layout(\n",
    "        scene=dict(\n",
    "            xaxis=dict(title='X-axis', range=[-6, 6]),\n",
    "            yaxis=dict(title='Y-axis', range=[-7, 5]),\n",
    "        ),\n",
    "        title='Phase Diagram in 2D',\n",
    "        width=800,\n",
    "        height=800,\n",
    "        showlegend=False\n",
    "    )\n",
    "\n",
    "    fig.show()\n"
   ]
  },
  {
   "cell_type": "code",
   "execution_count": null,
   "metadata": {},
   "outputs": [],
   "source": [
    "# define a nubmer of points to compute along each axis\n",
    "n_points = 2\n",
    "\n",
    "e1_vals = np.linspace(0, 1, n_points)\n",
    "e2_vals = np.linspace(0, 1, n_points)\n",
    "e3_vals = np.linspace(0, 1, n_points)\n",
    "e4_vals = np.linspace(0, 1, n_points)\n",
    "e5_vals = np.linspace(0, 1, n_points)\n",
    "e6_vals = np.linspace(0, 1, n_points)\n",
    "\n",
    "# create a meshgrid of the points\n",
    "E1, E2, E3, E4, E5, E6 = np.meshgrid(e1_vals, e2_vals, e3_vals, e4_vals, e5_vals, e6_vals, indexing='ij')\n",
    "E1_flat, E2_flat, E3_flat, E4_flat, E5_flat, E6_flat = E1.ravel(), E2.ravel(), E3.ravel(), E4.ravel(), E5.ravel(), E6.ravel()\n",
    "\n",
    "# evaluate the polynomials over the mesh\n",
    "bV2O5_energy_numeric = sp.lambdify((e1, e2, e3, e4, e5, e6), bV2O5_energy, 'numpy')\n",
    "aV2O5_energy_numeric = sp.lambdify((e1, e2, e3, e4, e5, e6), aV2O5_energy, 'numpy')\n",
    "\n",
    "bV2O5_energies = bV2O5_energy_numeric(E1_flat, E2_flat, E3_flat, E4_flat, E5_flat, E6_flat)\n",
    "bV2O5_points = np.vstack((E1_flat, E2_flat, E3_flat, E4_flat, E5_flat, E6_flat, bV2O5_energies)).T\n",
    "\n",
    "aV2O5_energies = aV2O5_energy_numeric(E1_flat, E2_flat, E3_flat, E4_flat, E5_flat, E6_flat)\n",
    "aV2O5_points = np.vstack((E1_flat, E2_flat, E3_flat, E4_flat, E5_flat, E6_flat, aV2O5_energies)).T\n",
    "\n",
    "# create label arrays\n",
    "bV2O5_labels = np.zeros(E1_flat.shape)\n",
    "aV2O5_labels = np.ones(E1_flat.shape)"
   ]
  },
  {
   "cell_type": "code",
   "execution_count": null,
   "metadata": {},
   "outputs": [],
   "source": [
    "# combine the labels and the points\n",
    "points = np.vstack((bV2O5_points, aV2O5_points))\n",
    "labels = np.hstack((bV2O5_labels, aV2O5_labels))"
   ]
  },
  {
   "cell_type": "code",
   "execution_count": null,
   "metadata": {},
   "outputs": [],
   "source": [
    "lower_convex_hull(points)"
   ]
  },
  {
   "cell_type": "code",
   "execution_count": null,
   "metadata": {},
   "outputs": [],
   "source": [
    "plot_high_dimensional_phase_diagram(points, labels)"
   ]
  },
  {
   "cell_type": "code",
   "execution_count": null,
   "metadata": {},
   "outputs": [],
   "source": [
    "en = np.vstack((E1_flat, E2_flat, E3_flat, E4_flat, E5_flat, E6_flat, bV2O5_energies)).T\n",
    "en[1, :]"
   ]
  },
  {
   "cell_type": "code",
   "execution_count": null,
   "metadata": {},
   "outputs": [],
   "source": [
    "# # Let's read some data in\n",
    "# import json\n",
    "\n",
    "# file_path = r'/mnt/c/Users/danie/University of Michigan Dropbox/Daniel Blevins/Research/Symbolic Hulls/ElasticTensorsV-O.json'\n",
    "\n",
    "# with open(file_path, 'r', encoding='utf-8') as f:\n",
    "#     data = json.load(f)\n",
    "\n",
    "# phase_length = len(data)\n",
    "# print(phase_length)"
   ]
  },
  {
   "cell_type": "code",
   "execution_count": null,
   "metadata": {},
   "outputs": [],
   "source": [
    "# # print out the polymorph names in the data set\n",
    "# for i in range(phase_length):\n",
    "#     print(data[i]['name'])"
   ]
  },
  {
   "cell_type": "code",
   "execution_count": null,
   "metadata": {},
   "outputs": [],
   "source": [
    "# # lets grab only the VO2 polymorphs\n",
    "# VO2_data = [data[i] for i in range(phase_length) if 'VO2' in data[i]['name']]\n",
    "# print(len(VO2_data))"
   ]
  },
  {
   "cell_type": "code",
   "execution_count": null,
   "metadata": {},
   "outputs": [],
   "source": [
    "# # now grab all pairs of polymorphs by index\n",
    "# import itertools\n",
    "\n",
    "# index_list = list(itertools.combinations(list(range(0, len(VO2_data))), 2))\n",
    "# index_list"
   ]
  },
  {
   "cell_type": "code",
   "execution_count": null,
   "metadata": {},
   "outputs": [],
   "source": [
    "# # compute the tangent boundries between phase pairs, and add the points along the boundry to the total hull\n",
    "# for pair in index_list:\n",
    "\n",
    "#     # find the stress strain of the first phase\n",
    "#     first_index = pair[0]\n",
    "#     first_eTens = np.array(VO2_data[first_index]['elastic_tensor']['raw'])\n",
    "#     first_molVol = VO2_data[first_index]['structure(relaxed)']['lattice']['volume']\n",
    "#     first_phase_energy = compute_strain_energy_polynomial(first_eTens, first_molVol)\n",
    "    \n",
    "#     # find the stress strain of the second phase\n",
    "#     second_index = pair[1]\n",
    "#     second_eTens = np.array(VO2_data[second_index]['elastic_tensor']['raw'])\n",
    "#     second_molVol = VO2_data[second_index]['structure(relaxed)']['lattice']['volume']\n",
    "#     second_phase_energy = compute_strain_energy_polynomial(second_eTens, second_molVol)\n",
    "\n",
    "#     # compute the boundary between the two phases\n",
    "#     boundary = hpboundry_f2_to_f1(first_phase_energy, second_phase_energy)\n",
    "\n",
    "#     # compute the points along the boundary\n"
   ]
  },
  {
   "cell_type": "code",
   "execution_count": null,
   "metadata": {},
   "outputs": [],
   "source": [
    "# n = 0\n",
    "\n",
    "# print(VO2_data[n]['name'])\n",
    "# print(np.array(VO2_data[n]['elastic_tensor']['raw']))\n",
    "# print(VO2_data[n]['structure(relaxed)']['lattice']['volume'])"
   ]
  }
 ],
 "metadata": {
  "kernelspec": {
   "display_name": "python3.12",
   "language": "python",
   "name": "python3"
  },
  "language_info": {
   "codemirror_mode": {
    "name": "ipython",
    "version": 3
   },
   "file_extension": ".py",
   "mimetype": "text/x-python",
   "name": "python",
   "nbconvert_exporter": "python",
   "pygments_lexer": "ipython3",
   "version": "3.12.8"
  }
 },
 "nbformat": 4,
 "nbformat_minor": 2
}
