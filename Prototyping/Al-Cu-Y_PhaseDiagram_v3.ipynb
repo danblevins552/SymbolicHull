{
 "cells": [
  {
   "cell_type": "markdown",
   "metadata": {},
   "source": [
    "## Imports and functions"
   ]
  },
  {
   "cell_type": "code",
   "execution_count": null,
   "metadata": {},
   "outputs": [],
   "source": [
    "from pycalphad import Model, Database, variables as v\n",
    "from numpy import meshgrid\n",
    "from sympy import sympify, lambdify, log, latex, solve\n",
    "from scipy.optimize import fsolve\n",
    "import matplotlib.pyplot as plt\n",
    "import plotly.graph_objects as go\n",
    "from symbolic_boundary import *"
   ]
  },
  {
   "cell_type": "markdown",
   "metadata": {},
   "source": [
    "## Test system 1"
   ]
  },
  {
   "cell_type": "code",
   "execution_count": null,
   "metadata": {},
   "outputs": [],
   "source": [
    "x = symbols('x')\n",
    "f1 = 2*x*log(x)\n",
    "f2 = (2-x)*log(2-x)+ .5"
   ]
  },
  {
   "cell_type": "code",
   "execution_count": null,
   "metadata": {},
   "outputs": [],
   "source": [
    "b1 = boundary(f1, f2)\n",
    "b2 = boundary(f2, f1)"
   ]
  },
  {
   "cell_type": "code",
   "execution_count": null,
   "metadata": {},
   "outputs": [],
   "source": [
    "# Convert all to numeric\n",
    "f1_numeric = lambdify(x, f1, 'numpy')\n",
    "f2_numeric = lambdify(x, f2, 'numpy')\n",
    "\n",
    "b1_numeric = lambdify(b1.free_symbols.pop(), b1, 'numpy')\n",
    "b2_numeric = lambdify(b2.free_symbols.pop(), b2, 'numpy')"
   ]
  },
  {
   "cell_type": "code",
   "execution_count": null,
   "metadata": {},
   "outputs": [],
   "source": [
    "# Solve the boundaries\n",
    "b1_x = fsolve(b1_numeric, 0.5)\n",
    "b2_x = fsolve(b2_numeric, 1.7)"
   ]
  },
  {
   "cell_type": "code",
   "execution_count": null,
   "metadata": {},
   "outputs": [],
   "source": [
    "# Define x range while avoiding log domain issues\n",
    "x_vals = np.linspace(0.01, 1.99, 400)  # Avoid x=0 and x=2 where log is undefined\n",
    "\n",
    "# Compute y values\n",
    "y1_vals = f1_numeric(x_vals)\n",
    "y2_vals = f2_numeric(x_vals)\n",
    "\n",
    "# Plot the functions\n",
    "plt.figure(figsize=(8, 6))\n",
    "plt.plot(x_vals, y1_vals, label=rf'$f_1(x) = {latex(f1)}$', color='blue')\n",
    "plt.plot(x_vals, y2_vals, label=rf'$f_2(x) = {latex(f2)}$', color='red')\n",
    "\n",
    "# Plot the boundaries\n",
    "plt.scatter(b1_x, f1_numeric(b1_x), label='Boundary Point 1', color='blue')\n",
    "plt.scatter(b2_x, f2_numeric(b2_x), label='Boundary Point 2', color='red')\n",
    "\n",
    "# Formatting the plot\n",
    "plt.xlabel('x')\n",
    "plt.ylabel('f(x)')\n",
    "plt.title('Plot of $f_1(x)$ and $f_2(x)$')\n",
    "plt.xlim(0, 2)\n",
    "plt.ylim(-1, 1)\n",
    "plt.legend()\n",
    "plt.grid(True)\n",
    "\n",
    "# Show the plot\n",
    "plt.show()"
   ]
  },
  {
   "cell_type": "markdown",
   "metadata": {},
   "source": [
    "## Test system 2"
   ]
  },
  {
   "cell_type": "code",
   "execution_count": null,
   "metadata": {},
   "outputs": [],
   "source": [
    "x = symbols('x')\n",
    "f1 = x**(-10) + log(x)\n",
    "f2 = x**(-1) + x*log(x) + x + x**2 - 2"
   ]
  },
  {
   "cell_type": "code",
   "execution_count": null,
   "metadata": {},
   "outputs": [],
   "source": [
    "solve(x - log(x))"
   ]
  },
  {
   "cell_type": "code",
   "execution_count": null,
   "metadata": {},
   "outputs": [],
   "source": [
    "solve(diff(x**(-1) + x*log(x) + x + x**2 - 2, x), x)"
   ]
  },
  {
   "cell_type": "code",
   "execution_count": null,
   "metadata": {},
   "outputs": [],
   "source": [
    "# b1 = boundary(f1, f2)\n",
    "# b2 = boundary(f2, f1)"
   ]
  },
  {
   "cell_type": "code",
   "execution_count": null,
   "metadata": {},
   "outputs": [],
   "source": [
    "# Convert all to numeric\n",
    "f1_numeric = lambdify(x, f1, 'numpy')\n",
    "f2_numeric = lambdify(x, f2, 'numpy')\n",
    "\n",
    "b1_numeric = lambdify(b1.free_symbols.pop(), b1, 'numpy')\n",
    "b2_numeric = lambdify(b2.free_symbols.pop(), b2, 'numpy')"
   ]
  },
  {
   "cell_type": "code",
   "execution_count": null,
   "metadata": {},
   "outputs": [],
   "source": [
    "# Solve the boundaries\n",
    "b1_x = fsolve(b1_numeric, 0.5)\n",
    "b2_x = fsolve(b2_numeric, 1.7)"
   ]
  },
  {
   "cell_type": "code",
   "execution_count": null,
   "metadata": {},
   "outputs": [],
   "source": [
    "# Define x range while avoiding log domain issues\n",
    "x_vals = np.linspace(0.01, 1.99, 400)  # Avoid x=0 and x=2 where log is undefined\n",
    "\n",
    "# Compute y values\n",
    "y1_vals = f1_numeric(x_vals)\n",
    "y2_vals = f2_numeric(x_vals)\n",
    "\n",
    "# Plot the functions\n",
    "plt.figure(figsize=(8, 6))\n",
    "plt.plot(x_vals, y1_vals, label=rf'$f_1(x) = {latex(f1)}$', color='blue')\n",
    "plt.plot(x_vals, y2_vals, label=rf'$f_2(x) = {latex(f2)}$', color='red')\n",
    "\n",
    "# Plot the boundaries\n",
    "plt.scatter(b1_x, f1_numeric(b1_x), label='Boundary Point 1', color='blue')\n",
    "plt.scatter(b2_x, f2_numeric(b2_x), label='Boundary Point 2', color='red')\n",
    "\n",
    "# Formatting the plot\n",
    "plt.xlabel('x')\n",
    "plt.ylabel('f(x)')\n",
    "plt.title('Plot of $f_1(x)$ and $f_2(x)$')\n",
    "plt.xlim(0, 2)\n",
    "plt.ylim(0, 2)\n",
    "plt.legend()\n",
    "plt.grid(True)\n",
    "\n",
    "# Show the plot\n",
    "plt.show()"
   ]
  },
  {
   "cell_type": "markdown",
   "metadata": {},
   "source": [
    "## We will start with the a binary system just so that we can visualize it"
   ]
  },
  {
   "cell_type": "code",
   "execution_count": null,
   "metadata": {},
   "outputs": [],
   "source": [
    "db = Database(\"../TDDatabaseFiles_temp/pbsn.tdb\")\n",
    "phases = list(db.phases.keys())\n",
    "print(phases) "
   ]
  },
  {
   "cell_type": "code",
   "execution_count": null,
   "metadata": {},
   "outputs": [],
   "source": [
    "phase = 'FCC_A1'\n",
    "comps = [list(sublattice)[0].name for sublattice in db.phases[phase].constituents]\n",
    "model = Model(db, comps, phase)\n",
    "\n",
    "sp_energy_expr = sympify(model.HM)  # Get the Enthaply expression in sympy\n",
    "display(sp_energy_expr)"
   ]
  },
  {
   "cell_type": "code",
   "execution_count": null,
   "metadata": {},
   "outputs": [],
   "source": [
    "# Get the chemical variables only\n",
    "chem_symbols = model.HM.free_symbols\n",
    "chem_symbols.remove(v.T)\n",
    "print(chem_symbols)"
   ]
  },
  {
   "cell_type": "code",
   "execution_count": null,
   "metadata": {},
   "outputs": [],
   "source": [
    "# Variable dictionary here\n",
    "x, T, v = symbols('x T v')\n",
    "symbol_dict = {\n",
    "    'AL': x,\n",
    "    'FE': 1 - x,\n",
    "    'T': T,\n",
    "    'VA': v\n",
    "    }\n",
    "\n",
    "for chem_symbol in chem_symbols:\n",
    "    name = chem_symbol.species.name\n",
    "    sp_energy_expr = sp_energy_expr.subs(chem_symbol, symbol_dict[name])\n",
    "\n",
    "display(sp_energy_expr)"
   ]
  },
  {
   "cell_type": "code",
   "execution_count": null,
   "metadata": {},
   "outputs": [],
   "source": [
    "energy_numeric = lambdify([x, T], sp_energy_expr, 'numpy')\n",
    "\n",
    "# Check\n",
    "print(sp_energy_expr.subs(v.T, 1000).subs(x, 0.5).evalf())\n",
    "print(energy_numeric(0.5, 1000))"
   ]
  },
  {
   "cell_type": "code",
   "execution_count": null,
   "metadata": {},
   "outputs": [],
   "source": [
    "# This is just to visualize all real energy functions\n",
    "X = np.linspace(0, 1, 100)\n",
    "T = np.linspace(300, 2000, 100)\n",
    "\n",
    "X, T = meshgrid(X, T)\n",
    "G = energy_numeric(X, T)"
   ]
  },
  {
   "cell_type": "code",
   "execution_count": null,
   "metadata": {},
   "outputs": [],
   "source": [
    "fig = go.Figure()\n",
    "\n",
    "fig.add_trace(\n",
    "    go.Surface(\n",
    "        x=X, y=T, z=G,\n",
    "        name='G'\n",
    "    )\n",
    ")\n",
    "\n",
    "fig.update_layout(\n",
    "    title=\"Energy function\", \n",
    "    scene=dict(\n",
    "        aspectmode='cube',\n",
    "        xaxis_title='Al',\n",
    "        yaxis_title='T',\n",
    "        zaxis_title='G'\n",
    "    ),\n",
    "    width=800,\n",
    "    height=700,\n",
    ")\n",
    "\n",
    "fig.show()"
   ]
  },
  {
   "cell_type": "code",
   "execution_count": null,
   "metadata": {},
   "outputs": [],
   "source": [
    "# def build_polynomial_basis(x, y, n):\n",
    "#     \"\"\"\n",
    "#     Returns a list of Sympy monomials\n",
    "#     \"\"\"\n",
    "#     basis = [1]\n",
    "#     for i in range(1, n+1):\n",
    "#         basis.append(x**i)\n",
    "#     for i in range(1, n+1):\n",
    "#         basis.append(y**i)\n",
    "\n",
    "#     return basis\n",
    "\n",
    "# def double_integral(sym_expression):\n",
    "#     \"\"\"\n",
    "#     Numerically compute the integral of sym_expression(x,y) \n",
    "#     \"\"\"\n",
    "#     # Convert the sympy expression to a numeric Python function f_num(x,y).\n",
    "#     f_num = sp.lambdify((x, y), sym_expression, 'numpy')\n",
    "    \n",
    "#     def integrand(yval, xval):\n",
    "#         return f_num(xval, yval)\n",
    "    \n",
    "#     val, err = spi.dblquad(\n",
    "#         integrand,\n",
    "#         0,   # x-lower\n",
    "#         1,   # x-upper\n",
    "#         lambda xval: 0,  # y-lower\n",
    "#         lambda xval: 1 - xval  # y-upper; ternaty system\n",
    "#     )\n",
    "#     return val\n",
    "\n",
    "# def fit_ternary_polynomial_galerkin(f_expr, n):\n",
    "#     \"\"\"\n",
    "#     Fits a 2D polynomial p(x,y) = sum_{i=0..n, j=0..n} alpha_{i,j} * x^i y^j\n",
    "#     to the given Sympy expression f_expr(x,y), via\n",
    "#     least-squares on [0,1]^2. Returns the symbolic polynomial approximation.\n",
    "#     \"\"\"\n",
    "#     # Build basis with cross terms\n",
    "#     basis = build_polynomial_basis(x, y, n)\n",
    "#     n_basis = len(basis)  # = (n+1)^2\n",
    "\n",
    "#     # Construct the Gram matrix M and vector b\n",
    "#     M = sp.zeros(n_basis, n_basis)\n",
    "#     b_vec = sp.zeros(n_basis, 1)\n",
    "\n",
    "#     for i in range(n_basis):\n",
    "#         for j in range(n_basis):\n",
    "#             M[i, j] = double_integral(basis[i]*basis[j])\n",
    "#         b_vec[i, 0] = double_integral(f_expr*basis[i])\n",
    "\n",
    "#     # Solve the linear system M alpha = b\n",
    "#     alpha = M.LUsolve(b_vec)\n",
    "\n",
    "#     # Build the final polynomial\n",
    "#     p_approx = sum(alpha[i,0] * basis[i] for i in range(n_basis))\n",
    "#     p_approx_simple = sp.simplify(p_approx)\n",
    "    \n",
    "#     return p_approx_simple"
   ]
  },
  {
   "cell_type": "code",
   "execution_count": null,
   "metadata": {},
   "outputs": [],
   "source": [
    "# def compute_boundary_points(boundary, mesh_density):\n",
    "#     '''\n",
    "#     Compute the boundary points for the given boundary equation\n",
    "#     '''\n",
    "#     # Generate the 1D mesh\n",
    "#     space = np.linspace(0, 1, mesh_density)\n",
    "#     x, y = symbols('x y')\n",
    "\n",
    "#     # Solve boundary=0 for y (treating x as the independent variable)\n",
    "#     solutions_y = sp.solve(sp.Eq(boundary, 0), y)\n",
    "#     # Solve boundary=0 for x (treating y as the independent variable)\n",
    "#     solutions_x = sp.solve(sp.Eq(boundary, 0), x)\n",
    "    \n",
    "#     # Convert each Sympy solution to a NumPy-callable function\n",
    "#     sol_y_lambdas = [sp.lambdify(x, sol, 'numpy') for sol in solutions_y]\n",
    "#     sol_x_lambdas = [sp.lambdify(y, sol, 'numpy') for sol in solutions_x]\n",
    "\n",
    "#     if sol_y_lambdas == [] and sol_x_lambdas == []:\n",
    "#         return np.array([]), np.array([])\n",
    "\n",
    "#     # We'll accumulate all x-values and y-values in lists and concatenate once.\n",
    "#     x_vals = []\n",
    "#     y_vals = []\n",
    "    \n",
    "#     # Evaluate y = f(x) for each solution\n",
    "#     for f_y in sol_y_lambdas:\n",
    "#         x_vals.append(space)\n",
    "#         y_vals.append(f_y(space))\n",
    "    \n",
    "#     # Evaluate x = f(y) for each solution\n",
    "#     for f_x in sol_x_lambdas:\n",
    "#         x_vals.append(f_x(space))\n",
    "#         y_vals.append(space)\n",
    "    \n",
    "#     # Combine into final arrays\n",
    "#     X = np.concatenate(x_vals)\n",
    "#     Y = np.concatenate(y_vals)\n",
    "    \n",
    "#     # Apply the mask: only keep points where X + Y <= 1\n",
    "#     # Replace invalid points with np.nan (or you could filter them out)\n",
    "#     mask = ((X + Y) <= 1) & (X >= 0) & (Y >= 0)\n",
    "#     X = X[mask]\n",
    "#     Y = Y[mask]\n",
    "    \n",
    "#     return X, Y"
   ]
  },
  {
   "cell_type": "markdown",
   "metadata": {},
   "source": [
    "## Real system"
   ]
  },
  {
   "cell_type": "code",
   "execution_count": null,
   "metadata": {},
   "outputs": [],
   "source": [
    "# # Teperature\n",
    "# temperature = 200\n",
    "\n",
    "# # Variable dictionary here\n",
    "# x, y = symbols('x y')\n",
    "# symbol_dict = {\n",
    "#     'CU': x,\n",
    "#     'CU2': 2*x,\n",
    "#     'AL': y,\n",
    "#     'Y': 1-x-y,\n",
    "#     'VA': 1}\n",
    "\n",
    "# # Polynomial order\n",
    "# n = 2"
   ]
  },
  {
   "cell_type": "code",
   "execution_count": null,
   "metadata": {},
   "outputs": [],
   "source": [
    "# db = Database(\"../TDDatabaseFiles_temp/ALCUY-2011.TDB\")\n",
    "# # phases = list(db.phases.keys())\n",
    "# phases = ['AL42CU68Y10']    # Test phases\n",
    "# # phases = ['CU6Y']\n",
    "# print(phases)"
   ]
  },
  {
   "cell_type": "code",
   "execution_count": null,
   "metadata": {},
   "outputs": [],
   "source": [
    "# # Create a dictionary to store the polynomial expressions\n",
    "# phase_energy_expression_dict = dict()\n",
    "\n",
    "# # First we need to go through all phases and fit polynomials to their energy functions\n",
    "# for phase in phases:\n",
    "#     comps = [list(sublattice)[0].name for sublattice in db.phases[phase].constituents]\n",
    "#     model = Model(db, comps, phase)\n",
    "\n",
    "#     sp_energy_expr = sp.sympify(model.GM)  # Get the Gibbs energy expression in sympy\n",
    "\n",
    "#     # Get the symbols from the non-converted expression\n",
    "#     chem_symbols = model.HM.free_symbols\n",
    "#     # chem_symbols.remove(v.T)\n",
    "\n",
    "#     display(sp_energy_expr)\n",
    "\n",
    "\n",
    "#     # # Evaluate the function at some temperature\n",
    "#     # sp_energy_expr = sp_energy_expr.subs(v.T, temperature)\n",
    "#     # for chem_symbol in chem_symbols:\n",
    "#     #     name = chem_symbol.species.name\n",
    "#     #     sp_energy_expr = sp_energy_expr.subs(chem_symbol, symbol_dict[name])\n",
    "\n",
    "#     # # Fit a polynomial to the energy function\n",
    "#     # print('Fitting polynomial to', phase)\n",
    "#     # poly_energy_expr = fit_ternary_polynomial_galerkin(sp_energy_expr, n)\n",
    "\n",
    "#     # # Round off the polynomials\n",
    "#     # poly_energy_expr = poly_energy_expr.replace(lambda term: term.is_Number, lambda term: int(round(term, 0)))\n",
    "\n",
    "#     # # Add the polynomial to the dictionary\n",
    "#     # phase_energy_expression_dict[phase] = [poly_energy_expr, sp.lambdify((x, y), sp_energy_expr, 'numpy')]    # We store both the polynomial and the original expression as a vectorized function"
   ]
  },
  {
   "cell_type": "code",
   "execution_count": null,
   "metadata": {},
   "outputs": [],
   "source": [
    "# # This is just to visualize all real energy functions\n",
    "\n",
    "# fig = go.Figure()\n",
    "# X, Y = np.meshgrid(np.linspace(0, 1, 100), np.linspace(0, 1, 100))\n",
    "# mask = X + Y <= 1\n",
    "# X, Y = np.where(mask, X, np.nan), np.where(mask, Y, np.nan)\n",
    "\n",
    "# for phase in phase_energy_expression_dict:\n",
    "#     energy_func = phase_energy_expression_dict[phase][1]\n",
    "#     Z = energy_func(X, Y)\n",
    "#     fig.add_trace(go.Surface(z=Z, x=X, y=Y, name=phase, showscale=False))\n",
    "\n",
    "# fig.update_layout(\n",
    "#     title=\"Energy functions\", \n",
    "#     scene=dict(\n",
    "#         aspectmode='cube',\n",
    "#         xaxis_title='Cu',\n",
    "#         yaxis_title='Al',\n",
    "#         zaxis_title='G'\n",
    "#     ),\n",
    "#     width=800,\n",
    "#     height=700,\n",
    "# )\n",
    "\n",
    "# fig.show()"
   ]
  },
  {
   "cell_type": "code",
   "execution_count": null,
   "metadata": {},
   "outputs": [],
   "source": [
    "# phase_pairs = list(combinations(phase_energy_expression_dict, 2))\n",
    "# phase_pairs_dict = dict()\n",
    "\n",
    "# for pair in phase_pairs:\n",
    "#     # Compute the phase boundaries\n",
    "#     boundary1 = hpboundry_f2_to_f1(phase_energy_expression_dict[pair[0]][0], phase_energy_expression_dict[pair[1]][0])\n",
    "#     boundary2 = hpboundry_f2_to_f1(phase_energy_expression_dict[pair[1]][0], phase_energy_expression_dict[pair[0]][0])\n",
    "\n",
    "#     phase_pairs_dict[pair] = boundary1\n",
    "#     # Reverse the phase pairs and add the other boundary\n",
    "#     phase_pairs_dict[(pair[1], pair[0])] = boundary2"
   ]
  },
  {
   "cell_type": "code",
   "execution_count": null,
   "metadata": {},
   "outputs": [],
   "source": [
    "# # Record the phase that a point is lying on\n",
    "# boundary_points_lists = dict()\n",
    "\n",
    "# # Got through all the phase pairs and compute the boundary points\n",
    "# mesh_density = 100\n",
    "# for pair in phase_pairs_dict:\n",
    "#     # Get the boundary points in X and Y\n",
    "#     Xline, Yline = compute_boundary_points(phase_pairs_dict[pair], mesh_density)\n",
    "\n",
    "#     # The polynomial isnt the best fit to the energy so we will compute actual energies off of the true function\n",
    "#     energy_lambda = sp.lambdify((x, y), phase_energy_expression_dict[pair[0]][0], 'numpy')\n",
    "#     Energies = energy_lambda(Xline, Yline)\n",
    "\n",
    "#     # Aggregate all the points\n",
    "#     data = np.column_stack((Xline, Yline, Energies))\n",
    "\n",
    "#     # Initialize a list for this phase if it doesn't exist yet\n",
    "#     if phase not in boundary_points_lists:\n",
    "#         boundary_points_lists[pair[0]] = []\n",
    "\n",
    "#     # Append the new data to the list\n",
    "#     boundary_points_lists[pair[0]].append(data)\n",
    "\n",
    "# boundary_points = {}\n",
    "# for phase, data_list in boundary_points_lists.items():\n",
    "#     boundary_points[phase] = np.vstack(data_list)"
   ]
  },
  {
   "cell_type": "code",
   "execution_count": null,
   "metadata": {},
   "outputs": [],
   "source": [
    "# # Create a composition space to plot the phases\n",
    "# X = np.linspace(0, 1, 100) \n",
    "# Y = np.linspace(0, 1, 100)\n",
    "\n",
    "# # Create meshgrid\n",
    "# X, Y = np.meshgrid(X, Y)\n",
    "# mask = (X + Y) <= 1\n",
    "\n",
    "# # Create a triangular mask for the ternary system\n",
    "# X, Y = np.where(mask, X, np.nan), np.where(mask, Y, np.nan)"
   ]
  },
  {
   "cell_type": "code",
   "execution_count": null,
   "metadata": {},
   "outputs": [],
   "source": [
    "# # Plot with Plotly\n",
    "# fig = go.Figure()\n",
    "\n",
    "# for phase in phases:\n",
    "\n",
    "#     # Add the energy function\n",
    "#     fig.add_trace(\n",
    "#         go.Surface(\n",
    "#             x=X, y=Y, z=sp.lambdify((x, y), phase_energy_expression_dict[phase][0], 'numpy')(X, Y),\n",
    "#             colorscale='RdBu',\n",
    "#             opacity=0.7,\n",
    "#             name=phase,\n",
    "#             showscale=False\n",
    "#         )\n",
    "#     )\n",
    "\n",
    "#     # Add the boundary points\n",
    "#     fig.add_trace(\n",
    "#         go.Scatter3d(\n",
    "#             x=boundary_points[phase][:,0], y=boundary_points[phase][:,1], z=boundary_points[phase][:,2],\n",
    "#             mode='markers',\n",
    "#             marker=dict(size=5),\n",
    "#             name=f'{phase} boundary points'\n",
    "#         )\n",
    "#     )\n",
    "\n",
    "# fig.update_layout(\n",
    "#     title=\"Energy functions and boundaries\", \n",
    "#     scene=dict(\n",
    "#         aspectmode='cube',\n",
    "#         xaxis_title='Cu',\n",
    "#         yaxis_title='Al',\n",
    "#         zaxis_title='G'\n",
    "#     ),\n",
    "#     width=800,\n",
    "#     height=700\n",
    "# )\n",
    "\n",
    "# fig.show()"
   ]
  },
  {
   "cell_type": "code",
   "execution_count": null,
   "metadata": {},
   "outputs": [],
   "source": []
  },
  {
   "cell_type": "code",
   "execution_count": null,
   "metadata": {},
   "outputs": [],
   "source": []
  },
  {
   "cell_type": "code",
   "execution_count": null,
   "metadata": {},
   "outputs": [],
   "source": []
  },
  {
   "cell_type": "code",
   "execution_count": null,
   "metadata": {},
   "outputs": [],
   "source": []
  }
 ],
 "metadata": {
  "kernelspec": {
   "display_name": "python3.12",
   "language": "python",
   "name": "python3"
  },
  "language_info": {
   "codemirror_mode": {
    "name": "ipython",
    "version": 3
   },
   "file_extension": ".py",
   "mimetype": "text/x-python",
   "name": "python",
   "nbconvert_exporter": "python",
   "pygments_lexer": "ipython3",
   "version": "3.12.8"
  }
 },
 "nbformat": 4,
 "nbformat_minor": 2
}
