{
 "cells": [
  {
   "cell_type": "code",
   "execution_count": null,
   "metadata": {},
   "outputs": [],
   "source": [
    "# Standard Library Imports\n",
    "from itertools import combinations\n",
    "from collections import defaultdict\n",
    "\n",
    "# Scientific Computing\n",
    "import numpy as np\n",
    "from sympy import symbols\n",
    "\n",
    "# PyCalphad (Thermodynamics Calculations & Plotting)\n",
    "from pycalphad import (\n",
    "    Database, calculate, equilibrium, variables as v\n",
    ")\n",
    "\n",
    "# Suppress NumPy warnings\n",
    "np.seterr(all='ignore')\n",
    "\n",
    "# Custom\n",
    "from symbolic_hulls import *\n"
   ]
  },
  {
   "cell_type": "code",
   "execution_count": null,
   "metadata": {},
   "outputs": [],
   "source": [
    "# Load database (ensure path is correct)\n",
    "db = Database(r'../TDDatabaseFiles_temp/alfe.tdb')\n",
    "\n",
    "# Extract available phases and elements\n",
    "phases = list(db.phases.keys())  \n",
    "constituents = list(db.elements)\n",
    "\n",
    "print(\"Phases in Database:\", phases)\n",
    "print(\"Elements in Database:\", constituents)\n",
    "\n",
    "# Define components, ensure 'VA' is included\n",
    "comps = ['AL', 'FE', 'VA']\n",
    "\n",
    "for t in np.linspace(300, 2000, 100):\n",
    "    conditions = { \n",
    "                    v.T: t,\n",
    "                    v.P: 101325,\n",
    "                    v.X(\"AL\"): np.linspace(0, 1, 100)\n",
    "                }\n",
    "\n",
    "    try:\n",
    "        # Define equilibrium conditions properly\n",
    "        eq = equilibrium(db, comps, phases, conditions=conditions)\n",
    "        print(f\"Equilibrium calculated at T={t} K\")\n",
    "    except Exception as e:\n",
    "        print(f\"Error at T={t} K: {e}\")\n",
    "        continue"
   ]
  },
  {
   "cell_type": "code",
   "execution_count": null,
   "metadata": {},
   "outputs": [],
   "source": [
    "# Load in polynomials dictionary\n",
    "phase_poly_dict = load_sympy_dict_from_json('binary_polynomials.json')\n",
    "\n",
    "# Calculate the equilibrium phases between all pairs of phases using the fitted polynomials\n",
    "pairs = list(combinations(phase_poly_dict.keys(), 2))\n",
    "equilibrium_eqs_dict = defaultdict(list)\n",
    "for pair in pairs:\n",
    "    phase1 = pair[0]\n",
    "    phase2 = pair[1]\n",
    "\n",
    "    proj, variables, pvariables = projection_function(phase_poly_dict[phase1], phase_poly_dict[phase2])\n",
    "    proj = proj.replace(lambda term: term.is_Number, lambda term: int(round(term, 0)))   # We are going to round the projection funtion\n",
    "    discriminant = recursive_discriminant(proj, variables)\n",
    "    solutions = sp.solve(discriminant, symbols('s_p'))\n",
    "    equilibrium_eqs_dict[phase1].extend(solutions)\n",
    "\n",
    "    proj, variables, pvariables = projection_function(phase_poly_dict[phase2], phase_poly_dict[phase1])\n",
    "    proj = proj.replace(lambda term: term.is_Number, lambda term: int(round(term, 0)))   # We are going to round the projection funtion\n",
    "    discriminant = recursive_discriminant(proj, variables)\n",
    "    solutions = sp.solve(discriminant, symbols('s_p'))\n",
    "    equilibrium_eqs_dict[phase2].extend(solutions)\n",
    "\n",
    "# Calculate the equilibrium points for each composition\n",
    "points = np.empty((0, 3))\n",
    "x_vals = np.linspace(0, 1, 100)\n",
    "for phase in phase_poly_dict.keys():\n",
    "    print(phase)\n",
    "    phase_func = sp.lambdify(symbols('x s'), phase_poly_dict[phase], 'numpy')\n",
    "    for eq_func in equilibrium_eqs_dict[phase]:\n",
    "        eq_func = sp.lambdify(symbols('x_p'), eq_func, 'numpy')\n",
    "        s_vals = eq_func(x_vals)\n",
    "        energy_vals = phase_func(x_vals, s_vals)\n",
    "        points = np.concatenate((points, np.column_stack((x_vals, s_vals, energy_vals))), axis=0)\n",
    "\n",
    "points = points[~np.isnan(points).any(axis=1)]\n",
    "\n",
    "# Run the lower hull\n",
    "lower_convex_hull(points)"
   ]
  },
  {
   "cell_type": "code",
   "execution_count": null,
   "metadata": {},
   "outputs": [],
   "source": []
  },
  {
   "cell_type": "code",
   "execution_count": null,
   "metadata": {},
   "outputs": [],
   "source": []
  }
 ],
 "metadata": {
  "kernelspec": {
   "display_name": "python3.12",
   "language": "python",
   "name": "python3"
  },
  "language_info": {
   "codemirror_mode": {
    "name": "ipython",
    "version": 3
   },
   "file_extension": ".py",
   "mimetype": "text/x-python",
   "name": "python",
   "nbconvert_exporter": "python",
   "pygments_lexer": "ipython3",
   "version": "3.12.8"
  }
 },
 "nbformat": 4,
 "nbformat_minor": 2
}
