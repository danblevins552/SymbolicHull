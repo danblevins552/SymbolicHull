{
 "cells": [
  {
   "cell_type": "code",
   "execution_count": null,
   "metadata": {},
   "outputs": [],
   "source": [
    "import numpy as np\n",
    "import sympy as sp\n",
    "from scipy.optimize import minimize\n",
    "from scipy.spatial import cKDTree\n",
    "import plotly.graph_objects as go\n",
    "from lower_hull import lower_hull\n",
    "from symbolic_hulls import *"
   ]
  },
  {
   "cell_type": "markdown",
   "metadata": {},
   "source": [
    "### Can we compute the boundary equations on higher order energy functions?"
   ]
  },
  {
   "cell_type": "code",
   "execution_count": null,
   "metadata": {},
   "outputs": [],
   "source": [
    "# Define variables\n",
    "x1, x2= sp.symbols('x1 x2')\n",
    "\n",
    "E1 = x1**4 + 2*x2**4 + 5*x1**2*x2**2 - 6*x2**2 + 9*x1*x2\n",
    "\n",
    "# Define second polynomial\n",
    "E2 = 2*x1**4 - 3*x2**4 + 6*x1**2 + 4*x1**2*x2**2 - x1*x2\n",
    "\n",
    "# Display the polynomials\n",
    "display(E1, E2)"
   ]
  },
  {
   "cell_type": "code",
   "execution_count": null,
   "metadata": {},
   "outputs": [],
   "source": [
    "proj, variables, pvariables = projection_function(E1, E2)\n",
    "disc1 = recursive_discriminant(proj, variables)\n",
    "\n",
    "proj, variables, pvariables = projection_function(E2, E1)\n",
    "disc2 = recursive_discriminant(proj, variables)"
   ]
  },
  {
   "cell_type": "code",
   "execution_count": null,
   "metadata": {},
   "outputs": [],
   "source": [
    "### THIS TOOK OVER AN HOUR TO RUN AND DIDNT FINISH\n",
    "# x3 = sp.symbols('x3')\n",
    "# # Define first polynomial\n",
    "# E1 = x1**4 + 2*x2**4 - 3*x3**4 + 5*x1**2*x2**2 - 6*x2**2*x3**2 + 7*x3**2 + 9*x1*x2*x3\n",
    "\n",
    "# # Define second polynomial\n",
    "# E2 = 2*x1**4 - 3*x2**4 + x3**4 + 6*x1**2*x3**2 + 4*x1**2*x2**2 - x1*x2*x3\n",
    "\n",
    "# proj, variables, pvariables = projection_function(E1, E2)\n",
    "# disc1 = recursive_discriminant(proj, variables)\n",
    "\n",
    "# proj, variables, pvariables = projection_function(E2, E1)\n",
    "# disc2 = recursive_discriminant(proj, variables)\n",
    "\n",
    "# display(disc1, disc2)"
   ]
  },
  {
   "cell_type": "code",
   "execution_count": null,
   "metadata": {},
   "outputs": [],
   "source": [
    "# Create a grid of points in [-5,5] x [-5,5], for example\n",
    "grid_size = 50\n",
    "x_vals = np.linspace(-5, 5, grid_size)\n",
    "y_vals = np.linspace(-5, 5, grid_size)\n",
    "X, Y = np.meshgrid(x_vals, y_vals)\n",
    "\n",
    "# Evaluate disc1_func and disc2_func on the grid\n",
    "Z1 = np.zeros_like(X, dtype=float)\n",
    "Z2 = np.zeros_like(X, dtype=float)\n",
    "\n",
    "E1_func = sp.lambdify((x1, x2), E1, 'numpy')\n",
    "E2_func = sp.lambdify((x1, x2), E2, 'numpy')\n",
    "for i in range(X.shape[0]):\n",
    "    for j in range(X.shape[1]):\n",
    "        Z1[i, j] = E1_func(X[i, j], Y[i, j])\n",
    "        Z2[i, j] = E2_func(X[i, j], Y[i, j])\n",
    "\n",
    "fig_discs = go.Figure()\n",
    "\n",
    "# Surface for disc1\n",
    "fig_discs.add_trace(go.Surface(\n",
    "    x=X,\n",
    "    y=Y,\n",
    "    z=Z1,\n",
    "    name='disc1'\n",
    "))\n",
    "\n",
    "# Surface for disc2\n",
    "fig_discs.add_trace(go.Surface(\n",
    "    x=X,\n",
    "    y=Y,\n",
    "    z=Z2,\n",
    "    name='disc2'\n",
    "))\n",
    "\n",
    "fig_discs.update_layout(\n",
    "    title=\"3D Surfaces for disc1 and disc2\",\n",
    "    scene=dict(\n",
    "        xaxis_title='x',\n",
    "        yaxis_title='y',\n",
    "        zaxis_title='disc values'\n",
    "    )\n",
    ")\n",
    "\n",
    "fig_discs.show()"
   ]
  },
  {
   "cell_type": "markdown",
   "metadata": {},
   "source": [
    "### Can we compute values on these boundaries?"
   ]
  },
  {
   "cell_type": "code",
   "execution_count": null,
   "metadata": {},
   "outputs": [],
   "source": [
    "x1_p, x2_p = sp.symbols('x1_p x2_p')\n",
    "\n",
    "disc1_func = sp.lambdify((x1_p, x2_p), disc1, 'numpy')\n",
    "disc2_func = sp.lambdify((x1_p, x2_p), disc2, 'numpy')"
   ]
  },
  {
   "cell_type": "code",
   "execution_count": null,
   "metadata": {},
   "outputs": [],
   "source": [
    "# Wrap the functions so that they can be called with a single argument\n",
    "def wrapped_disc1(X):\n",
    "    return disc1_func(*X)\n",
    "\n",
    "def wrapped_disc2(X):\n",
    "    return disc2_func(*X)\n",
    "\n",
    "# Define an objective function that will be minimized to step the discriminants towards zeros\n",
    "def objective1(x):\n",
    "    # 1/2 * [f(x)]^2\n",
    "    return 0.5 * wrapped_disc1(x)**2\n",
    "\n",
    "def objective2(x):\n",
    "    # 1/2 * [f(x)]^2\n",
    "    return 0.5 * wrapped_disc2(x)**2\n",
    "\n",
    "# Define the gradient of the objective function\n",
    "psudo_disc1_grad = sp.lambdify((x1, x2), sp.Matrix([disc1]).jacobian([x1, x2]), \"numpy\")\n",
    "psudo_disc2_grad = sp.lambdify((x1, x2), sp.Matrix([disc2]).jacobian([x1, x2]), \"numpy\")\n",
    "\n",
    "def objective_grad1(X):\n",
    "    f_val = wrapped_disc1(X)\n",
    "    grad_f = psudo_disc1_grad(*X) \n",
    "    grad_f = np.array(grad_f).ravel()\n",
    "    return f_val * grad_f\n",
    "\n",
    "def objective_grad2(X):\n",
    "    f_val = wrapped_disc2(X)\n",
    "    grad_f = psudo_disc2_grad(*X)\n",
    "    grad_f = np.array(grad_f).ravel()\n",
    "    return f_val * grad_f"
   ]
  },
  {
   "cell_type": "code",
   "execution_count": null,
   "metadata": {},
   "outputs": [],
   "source": [
    "# Define a space of guess points\n",
    "space = np.random.uniform(low=-4.0, high=4.0, size=(100000, 2))\n",
    "\n",
    "sols1 = []\n",
    "for point in space:\n",
    "    # Call the optimizer with max iterations\n",
    "    res = minimize(\n",
    "        objective1,\n",
    "        point,\n",
    "        jac=objective_grad1,\n",
    "        method=\"BFGS\",\n",
    "    )\n",
    "    if res.fun < 100:\n",
    "        sols1.append(res.x)\n",
    "\n",
    "sols1 = np.array(sols1)\n",
    "\n",
    "sols2 = []\n",
    "for point in space:\n",
    "    # Call the optimizer with max iterations\n",
    "    res = minimize(\n",
    "        objective2,\n",
    "        point,\n",
    "        jac=objective_grad2,\n",
    "        method=\"BFGS\",\n",
    "    )\n",
    "    if res.fun < 100:\n",
    "        sols2.append(res.x)\n",
    "\n",
    "sols2 = np.array(sols2)"
   ]
  },
  {
   "cell_type": "code",
   "execution_count": null,
   "metadata": {},
   "outputs": [],
   "source": [
    "print(\"sols1 shape:\" , sols1.shape)\n",
    "print(\"sols2 shape:\" , sols2.shape)"
   ]
  },
  {
   "cell_type": "markdown",
   "metadata": {},
   "source": [
    "### Lets use the trivial approach"
   ]
  },
  {
   "cell_type": "code",
   "execution_count": null,
   "metadata": {},
   "outputs": [],
   "source": [
    "# Assume x1, x2, E1, E2 are defined somewhere\n",
    "x1, x2 = sp.symbols('x1 x2')\n",
    "E1 = x1**2 + x2**2\n",
    "E2 = x1 - x2**3\n",
    "\n",
    "# Compile once\n",
    "E1_func = sp.lambdify((x1, x2), E1, 'numpy')\n",
    "E2_func = sp.lambdify((x1, x2), E2, 'numpy')\n",
    "\n",
    "# Generate space\n",
    "space = np.random.uniform(low=-4.0, high=4.0, size=(10000, 2))\n",
    "\n",
    "# Evaluate efficiently using unpacking\n",
    "E1_vals = E1_func(space[:, 0], space[:, 1])\n",
    "E2_vals = E2_func(space[:, 0], space[:, 1])\n",
    "\n",
    "# Combine results\n",
    "E1_points = np.column_stack((space, E1_vals))\n",
    "E2_points = np.column_stack((space, E2_vals))\n",
    "\n",
    "points = np.vstack((E1_points, E2_points))"
   ]
  },
  {
   "cell_type": "code",
   "execution_count": null,
   "metadata": {},
   "outputs": [],
   "source": [
    "# Now run the lower convex hull algorithm\n",
    "hull = lower_hull(points)"
   ]
  }
 ],
 "metadata": {
  "kernelspec": {
   "display_name": "python3.12",
   "language": "python",
   "name": "python3"
  },
  "language_info": {
   "codemirror_mode": {
    "name": "ipython",
    "version": 3
   },
   "file_extension": ".py",
   "mimetype": "text/x-python",
   "name": "python",
   "nbconvert_exporter": "python",
   "pygments_lexer": "ipython3",
   "version": "3.12.8"
  }
 },
 "nbformat": 4,
 "nbformat_minor": 2
}
