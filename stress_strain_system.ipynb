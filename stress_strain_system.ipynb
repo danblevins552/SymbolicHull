{
 "cells": [
  {
   "cell_type": "code",
   "execution_count": 30,
   "metadata": {},
   "outputs": [],
   "source": [
    "import numpy as np\n",
    "import sympy as sp\n",
    "import matplotlib.pyplot as plt\n",
    "from symbolic_hulls import *\n",
    "from lower_hull import lower_convex_hull"
   ]
  },
  {
   "cell_type": "code",
   "execution_count": 31,
   "metadata": {},
   "outputs": [],
   "source": [
    "def compute_strain_energy_polynomial(elasTens, v_mol):\n",
    "    \"\"\"\n",
    "    Compute a polynomial representation of the strain energy for 1 mole of material.\n",
    "\n",
    "    This is achieved by multiplying the strain energy density function (defined as \n",
    "    a quadratic form involving the elastic tensor and strain vector) by the molar \n",
    "    volume of the material.\n",
    "\n",
    "    Parameters:\n",
    "        elasTens (list or array-like): A 6x6 elastic tensor in Voigt notation, representing\n",
    "                                    the stiffness matrix of the material.\n",
    "        v_mol (float): The molar volume of the material, in units consistent with the elastic tensor.\n",
    "\n",
    "    Returns:\n",
    "        sympy expression: A simplified polynomial expression representing the strain energy\n",
    "                        as a function of the strain components (e_1, e_2, ..., e_6).\n",
    "                        Numerical coefficients are rounded to the nearest integer.\n",
    "    \"\"\"\n",
    "\n",
    "    e1, e2, e3, e4, e5, e6 = sp.symbols('e1 e2 e3 e4 e5 e6')\n",
    "    strain = sp.Matrix([e1, e2, e3, e4, e5, e6])\n",
    "    elastic_tensor = sp.Matrix(elasTens)\n",
    "    strain_energy = 0.5 * v_mol * strain.T * elastic_tensor * strain\n",
    "\n",
    "    strain_energy = sp.simplify(strain_energy)[0]\n",
    "\n",
    "    return strain_energy.replace(lambda term: term.is_Number, lambda term: int(round(term, 0)))"
   ]
  },
  {
   "cell_type": "code",
   "execution_count": 32,
   "metadata": {},
   "outputs": [],
   "source": [
    "# bV2O5_eTens =  [[271.8554647757902, 64.62325221396486, 27.224912079571325, -1.7191866738895836, -0.0025286851971816067, -0.002124003],\n",
    "#                 [64.62325221396486, 197.89991427799202, 12.453223957658249, 2.119618147614496, -0.01514585462756177, -0.00177122],\n",
    "#                 [27.224912079571325, 12.453223957658249, 33.120429472730564, 2.3253632154077684, -0.04857597532521658, -0.004906421],\n",
    "#                 [-1.7191866738895836, 2.119618147614496, 2.3253632154077684, 33.84674175649386, 0.012452724999999758, -0.000364988],\n",
    "#                 [-0.0025286851971816067, -0.01514585462756177, -0.04857597532521658, 0.012452724999999758, 28.376899505970716, -6.704158046],\n",
    "#                 [-0.002124003437466659, -0.0017712195119971308, -0.0049064205224106806, -0.0003649875000002795, -6.704158045891168, 72.27092569]]\n",
    "\n",
    "# bV2O5_v_mol = 48.502\n",
    "\n",
    "# # this is the polynomial representation of the strain energy for 1 mole of bV2O5\n",
    "# bV2O5_energy = compute_strain_energy_polynomial(bV2O5_eTens, bV2O5_v_mol)\n",
    "\n",
    "# aV2O5_eTens =  [[266.47365146395515, 43.15159737260626, 119.5698396037316, -0.021969906572240724, -0.008038178036991589, -0.051846511],\n",
    "#                 [43.15159737260626, 39.321322564273274, 60.251064113829564, -0.23774907491360064, 0.07308114151937194, -0.413241737],\n",
    "#                 [119.5698396037316, 60.251064113829564, 222.77826373647477, 0.06535684464073953, -0.032256197469259985, 0.056397909],\n",
    "#                 [-0.021969906572240724, -0.23774907491360064, 0.06535684464073953, 40.92316299266148, 0.0, -9.16E-18],\n",
    "#                 [-0.008038178036991589, 0.07308114151937194, -0.032256197469259985, 0.0, 44.326459555780836, -1.34E-15],\n",
    "#                 [-0.05184651084026355, -0.4132417369611278, 0.05639790945728265, -9.162304888641942e-18, -1.3365143026749432e-15, 33.76154876]]\n",
    "\n",
    "# aV2O5_v_mol = 52.872\n",
    "\n",
    "# # this is the polynomial representation of the strain energy for 1 mole of aV2O5\n",
    "# aV2O5_energy = compute_strain_energy_polynomial(aV2O5_eTens, aV2O5_v_mol)\n",
    "\n",
    "# e1, e2, e3, e4, e5, e6 = sp.symbols('e1 e2 e3 e4 e5 e6')\n",
    "# e1_p, e2_p, e3_p, e4_p, e5_p, e6_p = sp.symbols('e1_p e2_p e3_p e4_p e5_p e6_p')\n",
    "\n",
    "# display(aV2O5_energy, bV2O5_energy)\n",
    "\n",
    "# proj, variables, pvariables = projection_function(bV2O5_energy, aV2O5_energy)\n",
    "# disc1 = recursive_discriminant(proj, (e1, e2, e3, e4, e5, e6))\n",
    "\n",
    "# proj, variables, pvariables = projection_function(aV2O5_energy, bV2O5_energy)\n",
    "# disc2 = recursive_discriminant(proj, (e1, e2, e3, e4, e5, e6))\n",
    "\n",
    "# display(disc1, disc2)"
   ]
  },
  {
   "cell_type": "markdown",
   "metadata": {},
   "source": [
    "### Comparisioin of Methods"
   ]
  },
  {
   "cell_type": "code",
   "execution_count": 33,
   "metadata": {},
   "outputs": [],
   "source": [
    "# aV2O5_energy_func = sp.lambdify((e1, e2, e3, e4, e5, e6), aV2O5_energy, 'numpy')\n",
    "# aV2O5_energy_vals = aV2O5_energy_func(*space.T)\n",
    "\n",
    "# bV2O5_energy_func = sp.lambdify((e1, e2, e3, e4, e5, e6), bV2O5_energy, 'numpy')\n",
    "# bV2O5_energy_vals = bV2O5_energy_func(*space.T)\n",
    "\n",
    "# bV2O5_points = np.column_stack((space, bV2O5_energy_vals))\n",
    "# aV205_points = np.column_stack((space, aV2O5_energy_vals))\n",
    "\n",
    "# points = np.vstack((bV2O5_points, aV205_points))"
   ]
  },
  {
   "cell_type": "code",
   "execution_count": 34,
   "metadata": {},
   "outputs": [],
   "source": [
    "# # Compute the n-1 dimensional subspace of the convex hull which holds the hull boundries\n",
    "# e1_points_f1 = sp.solve(disc1, e1_p)\n",
    "# e1_points_f2 = sp.solve(disc2, e1_p)"
   ]
  },
  {
   "cell_type": "code",
   "execution_count": 35,
   "metadata": {},
   "outputs": [],
   "source": [
    "points_per_dim = 4\n",
    "points_1d = np.linspace(0, 0.2, points_per_dim)\n",
    "\n",
    "# Create a 6D mesh\n",
    "E1, E2, E3, E4, E5, E6 = np.meshgrid(\n",
    "    points_1d, points_1d, points_1d,\n",
    "    points_1d, points_1d, points_1d,\n",
    "    indexing='ij'\n",
    ")\n",
    "\n",
    "space = np.vstack((E1.ravel(), E2.ravel(), E3.ravel(), E4.ravel(), E5.ravel(), E6.ravel())).T\n",
    "\n",
    "# Create the reduced space mesh\n",
    "E1, E2, E3, E4, E5 = np.meshgrid(\n",
    "    points_1d, points_1d, points_1d,\n",
    "    points_1d, points_1d,\n",
    "    indexing='ij'\n",
    ")\n",
    "\n",
    "subspace = np.vstack((E1.ravel(), E2.ravel(), E3.ravel(), E4.ravel(), E5.ravel())).T"
   ]
  },
  {
   "cell_type": "code",
   "execution_count": 48,
   "metadata": {},
   "outputs": [],
   "source": [
    "e1, e2, e3, e4, e5, e6 = sp.symbols('e1 e2 e3 e4 e5 e6')\n",
    "e1_p, e2_p, e3_p, e4_p, e5_p, e6_p = sp.symbols('e1_p e2_p e3_p e4_p e5_p e6_p')"
   ]
  },
  {
   "cell_type": "code",
   "execution_count": 37,
   "metadata": {},
   "outputs": [
    {
     "name": "stdout",
     "output_type": "stream",
     "text": [
      "V\n",
      "VO\n",
      "A-VO2_resub\n",
      "C-V2O3\n",
      "M2-V3O5_resub\n",
      "M2-VO2\n",
      "Delta-V2O5\n",
      "Beta-V2O5\n",
      "M1-VO2\n",
      "Alpha-V2O5\n",
      "R-VO2\n"
     ]
    }
   ],
   "source": [
    "# Let's read some data in\n",
    "import json\n",
    "\n",
    "file_path = r'ElasticTensorsV-O.json'\n",
    "\n",
    "with open(file_path, 'r', encoding='utf-8') as f:\n",
    "    data = json.load(f)\n",
    "\n",
    "phase_length = len(data)\n",
    "# print out the polymorph names in the data set\n",
    "for i in range(phase_length):\n",
    "    print(data[i]['name'])\n",
    "\n",
    "# lets grab only the VO2 polymorphs\n",
    "VO2_data = [data[i] for i in range(phase_length) if 'VO2' in data[i]['name']]"
   ]
  },
  {
   "cell_type": "code",
   "execution_count": 38,
   "metadata": {},
   "outputs": [
    {
     "name": "stdout",
     "output_type": "stream",
     "text": [
      "The number of polymorph pairs is 6\n",
      "The number of points in the full space is 4096\n",
      "The number of points in the reduced space is 6144\n"
     ]
    }
   ],
   "source": [
    "# Grab all pairs of polymorphs by index\n",
    "import itertools\n",
    "index_list = list(itertools.combinations(list(range(0, len(VO2_data))), 2))\n",
    "print('The number of polymorph pairs is', len(index_list))\n",
    "print('The number of points in the full space is', points_per_dim**6)\n",
    "print('The number of points in the reduced space is', len(index_list)*points_per_dim**5)"
   ]
  },
  {
   "cell_type": "code",
   "execution_count": 39,
   "metadata": {},
   "outputs": [
    {
     "data": {
      "text/latex": [
       "$\\displaystyle 583731662163740584053044585918840 e_{1 p}^{2} - 145586748991868564442952006182553 e_{1 p} e_{2 p} - 1426618707035961882952400880418509 e_{1 p} e_{3 p} + 499811404900834083110749175644 e_{1 p} e_{4 p} - 17235964555863925011283350 e_{1 p} e_{5 p} + 834058535667152796114329881236 e_{1 p} e_{6 p} + 796845921955786768646784837618746 e_{2 p}^{2} - 1982529398071123661154944567504382 e_{2 p} e_{3 p} - 18836413729321996733165402131876 e_{2 p} e_{4 p} - 47920973813518315529363490 e_{2 p} e_{5 p} + 1001908386022855634249707716855 e_{2 p} e_{6 p} + 2137007706850237120872477407530284 e_{3 p}^{2} + 23722337473892552659441689241212 e_{3 p} e_{4 p} + 1648540964184340528515429180 e_{3 p} e_{5 p} - 9152176939306238564134173093510 e_{3 p} e_{6 p} - 100015256849083438207798491898694 e_{4 p}^{2} + 2783856730518395742359520 e_{4 p} e_{5 p} - 15227954852666963897667545592 e_{4 p} e_{6 p} + 250898791467679448154578402649135 e_{5 p}^{2} - 934929603929263487304841693680 e_{5 p} e_{6 p} + 2015739035009486479536657831643708 e_{6 p}^{2}$"
      ],
      "text/plain": [
       "583731662163740584053044585918840*e1_p**2 - 145586748991868564442952006182553*e1_p*e2_p - 1426618707035961882952400880418509*e1_p*e3_p + 499811404900834083110749175644*e1_p*e4_p - 17235964555863925011283350*e1_p*e5_p + 834058535667152796114329881236*e1_p*e6_p + 796845921955786768646784837618746*e2_p**2 - 1982529398071123661154944567504382*e2_p*e3_p - 18836413729321996733165402131876*e2_p*e4_p - 47920973813518315529363490*e2_p*e5_p + 1001908386022855634249707716855*e2_p*e6_p + 2137007706850237120872477407530284*e3_p**2 + 23722337473892552659441689241212*e3_p*e4_p + 1648540964184340528515429180*e3_p*e5_p - 9152176939306238564134173093510*e3_p*e6_p - 100015256849083438207798491898694*e4_p**2 + 2783856730518395742359520*e4_p*e5_p - 15227954852666963897667545592*e4_p*e6_p + 250898791467679448154578402649135*e5_p**2 - 934929603929263487304841693680*e5_p*e6_p + 2015739035009486479536657831643708*e6_p**2"
      ]
     },
     "metadata": {},
     "output_type": "display_data"
    },
    {
     "data": {
      "text/latex": [
       "$\\displaystyle - 710054228166887726292624041570311 e_{1 p}^{2} + 331903583935682704372510350782804 e_{1 p} e_{2 p} + 958593920769344906896099061566412 e_{1 p} e_{3 p} - 7509513708969273263918993741444 e_{1 p} e_{4 p} - 26948960778265491428053920 e_{1 p} e_{5 p} - 244251597907411092479364114144 e_{1 p} e_{6 p} - 676788487612398171678388123520404 e_{2 p}^{2} + 1249429160701454740355640373264912 e_{2 p} e_{3 p} + 19046360022350810181343982188400 e_{2 p} e_{4 p} - 18899262202753459225608840 e_{2 p} e_{5 p} - 171293246900141875550593486488 e_{2 p} e_{6 p} - 926833078247800602755191111969316 e_{3 p}^{2} - 14582244148168053677255352300776 e_{3 p} e_{4 p} + 42639195920915109471527880 e_{3 p} e_{5 p} + 386459864736980721933024086616 e_{3 p} e_{6 p} + 280931351834132047820500169385300 e_{4 p}^{2} - 530485946960386481406720 e_{4 p} e_{5 p} - 4808053315250701707643087104 e_{4 p} e_{6 p} - 221633009915776852992966314471640 e_{5 p}^{2} + 186696645838833528506966436080 e_{5 p} e_{6 p} - 461730433612434854977933207007030 e_{6 p}^{2}$"
      ],
      "text/plain": [
       "-710054228166887726292624041570311*e1_p**2 + 331903583935682704372510350782804*e1_p*e2_p + 958593920769344906896099061566412*e1_p*e3_p - 7509513708969273263918993741444*e1_p*e4_p - 26948960778265491428053920*e1_p*e5_p - 244251597907411092479364114144*e1_p*e6_p - 676788487612398171678388123520404*e2_p**2 + 1249429160701454740355640373264912*e2_p*e3_p + 19046360022350810181343982188400*e2_p*e4_p - 18899262202753459225608840*e2_p*e5_p - 171293246900141875550593486488*e2_p*e6_p - 926833078247800602755191111969316*e3_p**2 - 14582244148168053677255352300776*e3_p*e4_p + 42639195920915109471527880*e3_p*e5_p + 386459864736980721933024086616*e3_p*e6_p + 280931351834132047820500169385300*e4_p**2 - 530485946960386481406720*e4_p*e5_p - 4808053315250701707643087104*e4_p*e6_p - 221633009915776852992966314471640*e5_p**2 + 186696645838833528506966436080*e5_p*e6_p - 461730433612434854977933207007030*e6_p**2"
      ]
     },
     "metadata": {},
     "output_type": "display_data"
    }
   ],
   "source": [
    "# Compute the tangent boundries between phase pairs, and add the points along the boundry to the total hull\n",
    "points = np.empty((0, 6))\n",
    "# for pair in index_list:\n",
    "pair = (0, 1)\n",
    "\n",
    "# find the stress strain of the first phase\n",
    "first_index = pair[0]\n",
    "first_eTens = np.array(VO2_data[first_index]['elastic_tensor']['raw'])\n",
    "first_molVol = VO2_data[first_index]['structure(relaxed)']['lattice']['volume']\n",
    "first_phase_energy_expr = compute_strain_energy_polynomial(first_eTens, first_molVol)\n",
    "\n",
    "# find the stress strain of the second phase\n",
    "second_index = pair[1]\n",
    "second_eTens = np.array(VO2_data[second_index]['elastic_tensor']['raw'])\n",
    "second_molVol = VO2_data[second_index]['structure(relaxed)']['lattice']['volume']\n",
    "second_phase_energy = compute_strain_energy_polynomial(second_eTens, second_molVol)\n",
    "\n",
    "# compute the projection of the first phase onto the second phase\n",
    "proj, variables, pvariables = projection_function(first_phase_energy_expr, second_phase_energy)\n",
    "disc1 = recursive_discriminant(proj, (e1, e2, e3, e4, e5, e6))\n",
    "# compute the projection of the second phase onto the first phase\n",
    "proj, variables, pvariables = projection_function(second_phase_energy, first_phase_energy_expr)\n",
    "disc2 = recursive_discriminant(proj, (e1, e2, e3, e4, e5, e6))\n",
    "\n",
    "display(disc1, disc2)"
   ]
  },
  {
   "cell_type": "code",
   "execution_count": 50,
   "metadata": {},
   "outputs": [
    {
     "name": "stdout",
     "output_type": "stream",
     "text": [
      "145586748991868564442952006182553*e2_p/1167463324327481168106089171837680 + 1426618707035961882952400880418509*e3_p/1167463324327481168106089171837680 - 124952851225208520777687293911*e4_p/291865831081870292026522292959420 + 1723596455586392501128335*e5_p/116746332432748116810608917183768 - 208514633916788199028582470309*e6_p/291865831081870292026522292959420 - sqrt(44834921748049481245440227069)*sqrt(-41025638159937210211548541396588606779*e2_p**2 + 112511722689340972569218553382696249746*e2_p*e3_p + 977722517124590609074095445654175784*e2_p*e4_p + 2607579322531577120196348853500*e2_p*e5_p - 57594353479637464475855543689130664*e2_p*e6_p - 65897634982918762266432432631586320611*e3_p**2 - 1267226445847262421032503823938571448*e3_p*e4_p - 84756341297735683890981502180500*e3_p*e5_p + 423551420832492671761900549310381208*e3_p*e6_p + 5208630442420603998012145258051202704*e4_p**2 - 145362821553879168950305578000*e4_p*e5_p + 811641910104427285445040794787552*e4_p*e6_p - 13066383334073622231747214089778641900*e5_p**2 + 48689546740967149309780313589224400*e5_p*e6_p - 104976253117444222877082195978586108336*e6_p**2)/1167463324327481168106089171837680\n",
      "145586748991868564442952006182553*e2_p/1167463324327481168106089171837680 + 1426618707035961882952400880418509*e3_p/1167463324327481168106089171837680 - 124952851225208520777687293911*e4_p/291865831081870292026522292959420 + 1723596455586392501128335*e5_p/116746332432748116810608917183768 - 208514633916788199028582470309*e6_p/291865831081870292026522292959420 + sqrt(44834921748049481245440227069)*sqrt(-41025638159937210211548541396588606779*e2_p**2 + 112511722689340972569218553382696249746*e2_p*e3_p + 977722517124590609074095445654175784*e2_p*e4_p + 2607579322531577120196348853500*e2_p*e5_p - 57594353479637464475855543689130664*e2_p*e6_p - 65897634982918762266432432631586320611*e3_p**2 - 1267226445847262421032503823938571448*e3_p*e4_p - 84756341297735683890981502180500*e3_p*e5_p + 423551420832492671761900549310381208*e3_p*e6_p + 5208630442420603998012145258051202704*e4_p**2 - 145362821553879168950305578000*e4_p*e5_p + 811641910104427285445040794787552*e4_p*e6_p - 13066383334073622231747214089778641900*e5_p**2 + 48689546740967149309780313589224400*e5_p*e6_p - 104976253117444222877082195978586108336*e6_p**2)/1167463324327481168106089171837680\n"
     ]
    }
   ],
   "source": [
    "# solve the discriminants for one of the variables\n",
    "e1_sols_f1 = sp.solve(disc1, e1_p)\n",
    "for sol in e1_sols_f1:\n",
    "    print(sol)\n",
    "    sol_func = sp.lambdify((e2_p, e3_p, e4_p, e5_p, e6_p), sol, modules='numpy')\n",
    "    # print(sol_func(0.1, 0.1, 0.1, 0.1, 0.1))\n",
    "    # e1_vals = sol_func(*subspace.T)\n",
    "    # disc1_vals = np.column_stack((subspace, e1_vals))"
   ]
  },
  {
   "cell_type": "code",
   "execution_count": null,
   "metadata": {},
   "outputs": [
    {
     "name": "stdout",
     "output_type": "stream",
     "text": [
      "1\n"
     ]
    },
    {
     "ename": "TypeError",
     "evalue": "loop of ufunc does not support argument 0 of type int which has no callable sqrt method",
     "output_type": "error",
     "traceback": [
      "\u001b[0;31m---------------------------------------------------------------------------\u001b[0m",
      "\u001b[0;31mAttributeError\u001b[0m                            Traceback (most recent call last)",
      "\u001b[0;31mAttributeError\u001b[0m: 'int' object has no attribute 'sqrt'",
      "\nThe above exception was the direct cause of the following exception:\n",
      "\u001b[0;31mTypeError\u001b[0m                                 Traceback (most recent call last)",
      "Cell \u001b[0;32mIn[51], line 30\u001b[0m\n\u001b[1;32m     28\u001b[0m \u001b[38;5;28mprint\u001b[39m(\u001b[38;5;241m1\u001b[39m)\n\u001b[1;32m     29\u001b[0m sol_func \u001b[38;5;241m=\u001b[39m sp\u001b[38;5;241m.\u001b[39mlambdify((e_2p, e_3p, e_4p, e_5p, e_6p), sol, \u001b[38;5;124m'\u001b[39m\u001b[38;5;124mnumpy\u001b[39m\u001b[38;5;124m'\u001b[39m)\n\u001b[0;32m---> 30\u001b[0m \u001b[38;5;28mprint\u001b[39m(\u001b[43msol_func\u001b[49m\u001b[43m(\u001b[49m\u001b[38;5;241;43m0.1\u001b[39;49m\u001b[43m,\u001b[49m\u001b[43m \u001b[49m\u001b[38;5;241;43m0.1\u001b[39;49m\u001b[43m,\u001b[49m\u001b[43m \u001b[49m\u001b[38;5;241;43m0.1\u001b[39;49m\u001b[43m,\u001b[49m\u001b[43m \u001b[49m\u001b[38;5;241;43m0.1\u001b[39;49m\u001b[43m,\u001b[49m\u001b[43m \u001b[49m\u001b[38;5;241;43m0.1\u001b[39;49m\u001b[43m)\u001b[49m)\n\u001b[1;32m     31\u001b[0m e1_vals \u001b[38;5;241m=\u001b[39m sol_func(\u001b[38;5;241m*\u001b[39msubspace\u001b[38;5;241m.\u001b[39mT)\n\u001b[1;32m     32\u001b[0m disc1_vals \u001b[38;5;241m=\u001b[39m np\u001b[38;5;241m.\u001b[39mcolumn_stack((subspace, e1_vals))\n",
      "File \u001b[0;32m<lambdifygenerated-15>:2\u001b[0m, in \u001b[0;36m_lambdifygenerated\u001b[0;34m(e_2p, e_3p, e_4p, e_5p, e_6p)\u001b[0m\n\u001b[1;32m      1\u001b[0m \u001b[38;5;28;01mdef\u001b[39;00m\u001b[38;5;250m \u001b[39m\u001b[38;5;21m_lambdifygenerated\u001b[39m(e_2p, e_3p, e_4p, e_5p, e_6p):\n\u001b[0;32m----> 2\u001b[0m     \u001b[38;5;28;01mreturn\u001b[39;00m (\u001b[38;5;241m145586748991868564442952006182553\u001b[39m\u001b[38;5;241m/\u001b[39m\u001b[38;5;241m1167463324327481168106089171837680\u001b[39m)\u001b[38;5;241m*\u001b[39me2_p \u001b[38;5;241m+\u001b[39m (\u001b[38;5;241m1426618707035961882952400880418509\u001b[39m\u001b[38;5;241m/\u001b[39m\u001b[38;5;241m1167463324327481168106089171837680\u001b[39m)\u001b[38;5;241m*\u001b[39me3_p \u001b[38;5;241m-\u001b[39m \u001b[38;5;241m124952851225208520777687293911\u001b[39m\u001b[38;5;241m/\u001b[39m\u001b[38;5;241m291865831081870292026522292959420\u001b[39m\u001b[38;5;241m*\u001b[39me4_p \u001b[38;5;241m+\u001b[39m (\u001b[38;5;241m1723596455586392501128335\u001b[39m\u001b[38;5;241m/\u001b[39m\u001b[38;5;241m116746332432748116810608917183768\u001b[39m)\u001b[38;5;241m*\u001b[39me5_p \u001b[38;5;241m-\u001b[39m \u001b[38;5;241m208514633916788199028582470309\u001b[39m\u001b[38;5;241m/\u001b[39m\u001b[38;5;241m291865831081870292026522292959420\u001b[39m\u001b[38;5;241m*\u001b[39me6_p \u001b[38;5;241m-\u001b[39m \u001b[38;5;241m1\u001b[39m\u001b[38;5;241m/\u001b[39m\u001b[38;5;241m1167463324327481168106089171837680\u001b[39m\u001b[38;5;241m*\u001b[39m\u001b[43msqrt\u001b[49m\u001b[43m(\u001b[49m\u001b[38;5;241;43m44834921748049481245440227069\u001b[39;49m\u001b[43m)\u001b[49m\u001b[38;5;241m*\u001b[39msqrt(\u001b[38;5;241m-\u001b[39m\u001b[38;5;241m41025638159937210211548541396588606779\u001b[39m\u001b[38;5;241m*\u001b[39me2_p\u001b[38;5;241m*\u001b[39m\u001b[38;5;241m*\u001b[39m\u001b[38;5;241m2\u001b[39m \u001b[38;5;241m+\u001b[39m \u001b[38;5;241m112511722689340972569218553382696249746\u001b[39m\u001b[38;5;241m*\u001b[39me2_p\u001b[38;5;241m*\u001b[39me3_p \u001b[38;5;241m+\u001b[39m \u001b[38;5;241m977722517124590609074095445654175784\u001b[39m\u001b[38;5;241m*\u001b[39me2_p\u001b[38;5;241m*\u001b[39me4_p \u001b[38;5;241m+\u001b[39m \u001b[38;5;241m2607579322531577120196348853500\u001b[39m\u001b[38;5;241m*\u001b[39me2_p\u001b[38;5;241m*\u001b[39me5_p \u001b[38;5;241m-\u001b[39m \u001b[38;5;241m57594353479637464475855543689130664\u001b[39m\u001b[38;5;241m*\u001b[39me2_p\u001b[38;5;241m*\u001b[39me6_p \u001b[38;5;241m-\u001b[39m \u001b[38;5;241m65897634982918762266432432631586320611\u001b[39m\u001b[38;5;241m*\u001b[39me3_p\u001b[38;5;241m*\u001b[39m\u001b[38;5;241m*\u001b[39m\u001b[38;5;241m2\u001b[39m \u001b[38;5;241m-\u001b[39m \u001b[38;5;241m1267226445847262421032503823938571448\u001b[39m\u001b[38;5;241m*\u001b[39me3_p\u001b[38;5;241m*\u001b[39me4_p \u001b[38;5;241m-\u001b[39m \u001b[38;5;241m84756341297735683890981502180500\u001b[39m\u001b[38;5;241m*\u001b[39me3_p\u001b[38;5;241m*\u001b[39me5_p \u001b[38;5;241m+\u001b[39m \u001b[38;5;241m423551420832492671761900549310381208\u001b[39m\u001b[38;5;241m*\u001b[39me3_p\u001b[38;5;241m*\u001b[39me6_p \u001b[38;5;241m+\u001b[39m \u001b[38;5;241m5208630442420603998012145258051202704\u001b[39m\u001b[38;5;241m*\u001b[39me4_p\u001b[38;5;241m*\u001b[39m\u001b[38;5;241m*\u001b[39m\u001b[38;5;241m2\u001b[39m \u001b[38;5;241m-\u001b[39m \u001b[38;5;241m145362821553879168950305578000\u001b[39m\u001b[38;5;241m*\u001b[39me4_p\u001b[38;5;241m*\u001b[39me5_p \u001b[38;5;241m+\u001b[39m \u001b[38;5;241m811641910104427285445040794787552\u001b[39m\u001b[38;5;241m*\u001b[39me4_p\u001b[38;5;241m*\u001b[39me6_p \u001b[38;5;241m-\u001b[39m \u001b[38;5;241m13066383334073622231747214089778641900\u001b[39m\u001b[38;5;241m*\u001b[39me5_p\u001b[38;5;241m*\u001b[39m\u001b[38;5;241m*\u001b[39m\u001b[38;5;241m2\u001b[39m \u001b[38;5;241m+\u001b[39m \u001b[38;5;241m48689546740967149309780313589224400\u001b[39m\u001b[38;5;241m*\u001b[39me5_p\u001b[38;5;241m*\u001b[39me6_p \u001b[38;5;241m-\u001b[39m \u001b[38;5;241m104976253117444222877082195978586108336\u001b[39m\u001b[38;5;241m*\u001b[39me6_p\u001b[38;5;241m*\u001b[39m\u001b[38;5;241m*\u001b[39m\u001b[38;5;241m2\u001b[39m)\n",
      "\u001b[0;31mTypeError\u001b[0m: loop of ufunc does not support argument 0 of type int which has no callable sqrt method"
     ]
    }
   ],
   "source": [
    "# Compute the tangent boundries between phase pairs, and add the points along the boundry to the total hull\n",
    "points = np.empty((0, 6))\n",
    "# for pair in index_list:\n",
    "pair = (0, 1)\n",
    "\n",
    "# find the stress strain of the first phase\n",
    "first_index = pair[0]\n",
    "first_eTens = np.array(VO2_data[first_index]['elastic_tensor']['raw'])\n",
    "first_molVol = VO2_data[first_index]['structure(relaxed)']['lattice']['volume']\n",
    "first_phase_energy_expr = compute_strain_energy_polynomial(first_eTens, first_molVol)\n",
    "\n",
    "# find the stress strain of the second phase\n",
    "second_index = pair[1]\n",
    "second_eTens = np.array(VO2_data[second_index]['elastic_tensor']['raw'])\n",
    "second_molVol = VO2_data[second_index]['structure(relaxed)']['lattice']['volume']\n",
    "second_phase_energy = compute_strain_energy_polynomial(second_eTens, second_molVol)\n",
    "\n",
    "# compute the projection of the first phase onto the second phase\n",
    "proj, variables, pvariables = projection_function(first_phase_energy_expr, second_phase_energy)\n",
    "disc1 = recursive_discriminant(proj, (e1, e2, e3, e4, e5, e6))\n",
    "# compute the projection of the second phase onto the first phase\n",
    "proj, variables, pvariables = projection_function(second_phase_energy, first_phase_energy_expr)\n",
    "disc2 = recursive_discriminant(proj, (e1, e2, e3, e4, e5, e6))\n",
    "\n",
    "# solve the discriminants for one of the variables\n",
    "e1_sols_f1 = sp.solve(disc1, e1_p)\n",
    "for sol in e1_sols_f1:\n",
    "    print(sol)\n",
    "    sol_func = sp.lambdify((e_2p, e_3p, e_4p, e_5p, e_6p), sol, 'numpy')\n",
    "    print(sol_func(0.1, 0.1, 0.1, 0.1, 0.1))\n",
    "    e1_vals = sol_func(*subspace.T)\n",
    "    disc1_vals = np.column_stack((subspace, e1_vals))\n",
    "\n",
    "# solve the energy function along the discriminant\n",
    "disc1_energy_func = sp.lambdify((e2, e3, e4, e5, e6), first_phase_energy_expr, 'numpy')\n",
    "disc1_energy_vals = disc1_energy_func(*disc1_vals.T)\n",
    "\n",
    "# add the points to the total points\n",
    "disc1_points = np.column_stack((disc1_vals, disc1_energy_vals))\n",
    "points = np.vstack((points, disc1_points))\n",
    "\n",
    "e1_sols_f2 = sp.solve(disc2, e1_p)\n",
    "for sol in e1_sols_f2:\n",
    "    sol_func = sp.lambdify((e2_p, e3_p, e4_p, e5_p, e6_p), sol, 'numpy')\n",
    "    e1_vals = sol_func(*subspace.T)\n",
    "    e1_vals = np.column_stack((subspace, e1_vals))\n",
    "\n",
    "# solve the energy function along the discriminant\n",
    "disc2_energy_func = sp.lambdify((e2, e3, e4, e5, e6), second_phase_energy, 'numpy')\n",
    "disc2_energy_vals = disc2_energy_func(*e1_vals.T)\n",
    "# add the points to the total points\n",
    "disc2_points = np.column_stack((e1_vals, disc2_energy_vals))\n",
    "points = np.vstack((points, disc2_points))\n",
    "\n",
    "# remove duplicate points\n"
   ]
  },
  {
   "cell_type": "code",
   "execution_count": null,
   "metadata": {},
   "outputs": [],
   "source": [
    "# Here we will make a plot of points in the total space as a funciton of resolution of one dimension\n",
    "resolution = np.arange(6)\n",
    "brute_force_points = resolution**6\n",
    "discriminant_points = len(index_list)*resolution**5\n",
    "plt.plot(resolution, brute_force_points, label='Brute Force Method')\n",
    "plt.plot(resolution, discriminant_points, label='Discriminant Method')\n",
    "plt.xlabel('Resolution Along One Dimension')\n",
    "plt.ylabel('Total Number of Points')\n",
    "plt.title('Number of Points as a Function of Resolution')\n",
    "plt.legend()\n",
    "plt.grid()\n",
    "plt.show()"
   ]
  },
  {
   "cell_type": "code",
   "execution_count": 18,
   "metadata": {},
   "outputs": [
    {
     "data": {
      "image/png": "[encoded data removed]",
      "text/plain": [
       "<Figure size 640x480 with 1 Axes>"
      ]
     },
     "metadata": {},
     "output_type": "display_data"
    }
   ],
   "source": [
    "resolution = np.arange(100)\n",
    "brute_force_points = resolution**6\n",
    "discriminant_points = len(index_list)*resolution**5\n",
    "plt.plot(resolution, brute_force_points, label='Brute Force Method')\n",
    "plt.plot(resolution, discriminant_points, label='Discriminant Method')\n",
    "plt.xlabel('Resolution Along One Dimension')\n",
    "plt.ylabel('Total Number of Points')\n",
    "plt.title('Number of Points as a Function of Resolution')\n",
    "plt.legend()\n",
    "plt.grid()\n",
    "plt.show()"
   ]
  },
  {
   "cell_type": "code",
   "execution_count": null,
   "metadata": {},
   "outputs": [],
   "source": []
  }
 ],
 "metadata": {
  "kernelspec": {
   "display_name": "python3.12",
   "language": "python",
   "name": "python3"
  },
  "language_info": {
   "codemirror_mode": {
    "name": "ipython",
    "version": 3
   },
   "file_extension": ".py",
   "mimetype": "text/x-python",
   "name": "python",
   "nbconvert_exporter": "python",
   "pygments_lexer": "ipython3",
   "version": "3.12.8"
  }
 },
 "nbformat": 4,
 "nbformat_minor": 2
}
