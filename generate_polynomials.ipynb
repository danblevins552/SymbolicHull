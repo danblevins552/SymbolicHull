{
 "cells": [
  {
   "cell_type": "code",
   "execution_count": null,
   "metadata": {},
   "outputs": [],
   "source": [
    "# Scientific Computing\n",
    "import numpy as np\n",
    "import sympy as sp\n",
    "\n",
    "# PyCalphad (Thermodynamics Calculations & Plotting)\n",
    "from pycalphad import Database, calculate\n",
    "from pycalphad.plot.utils import phase_legend\n",
    "\n",
    "# Custom\n",
    "from symbolic_hulls import *"
   ]
  },
  {
   "cell_type": "code",
   "execution_count": null,
   "metadata": {},
   "outputs": [],
   "source": [
    "def fit_binary_HSX_surface(x_data, s_data, h_data):\n",
    "    # Construct the design matrix\n",
    "    A = np.column_stack([\n",
    "        np.ones_like(x_data),    \n",
    "        x_data,                  \n",
    "        s_data,                  \n",
    "        x_data**2,               \n",
    "        s_data**2,               \n",
    "    ])\n",
    "    \n",
    "    # Solve the least squares problem to get the coefficients\n",
    "    coeffs, residuals, rank, _ = np.linalg.lstsq(A, h_data, rcond=None)\n",
    "    \n",
    "    # Create sympy symbols for x and y\n",
    "    x, s = sp.symbols('x s')\n",
    "    \n",
    "    # Define the list of polynomial terms in the same order as in A:\n",
    "    terms = [\n",
    "        1,          \n",
    "        x,          \n",
    "        s,          \n",
    "        x**2,       \n",
    "        s**2,       \n",
    "    ]\n",
    "    \n",
    "    # Build the polynomial expression by summing coeff * term for each term.\n",
    "    expr = sum(sp.Float(coeff) * term for coeff, term in zip(coeffs, terms))\n",
    "    \n",
    "    return sp.simplify(expr), residuals"
   ]
  },
  {
   "cell_type": "code",
   "execution_count": null,
   "metadata": {},
   "outputs": [],
   "source": [
    "def fit_ternary_HSX_surface(x1_data, x2_data, s_data, h_data):\n",
    "    # Construct the design matrix\n",
    "    A = np.column_stack([\n",
    "        np.ones_like(x1_data),    \n",
    "        x1_data,\n",
    "        x2_data,\n",
    "        s_data,\n",
    "        x1_data**2,\n",
    "        x2_data**2,\n",
    "        s_data**2,             \n",
    "    ])\n",
    "    \n",
    "    # Solve the least squares problem to get the coefficients\n",
    "    coeffs, residuals, rank, _ = np.linalg.lstsq(A, h_data, rcond=None)\n",
    "    \n",
    "    # Create sympy symbols for x and y\n",
    "    x1, x2, s = sp.symbols('x1 x2 s')\n",
    "    \n",
    "    # Define the list of polynomial terms in the same order as in A:\n",
    "    terms = [\n",
    "        1,\n",
    "        x1,\n",
    "        x2,\n",
    "        s,\n",
    "        x1**2,\n",
    "        x2**2,\n",
    "        s**2,\n",
    "    ]\n",
    "    \n",
    "    # Build the polynomial expression by summing coeff * term for each term.\n",
    "    expr = sum(sp.Float(coeff) * term for coeff, term in zip(coeffs, terms))\n",
    "    \n",
    "    return sp.simplify(expr), residuals"
   ]
  },
  {
   "cell_type": "code",
   "execution_count": null,
   "metadata": {},
   "outputs": [],
   "source": [
    "# Calculate all the enthalpy as a funciton of the entropy and composition\n",
    "def format_enthalpy_binary(entropy_result, enthalpy_result):\n",
    "    X = entropy_result.X.sel(component='FE').values[0, 0, :, :].flatten()\n",
    "    S = entropy_result.SM.values[0, 0, :, :].flatten()\n",
    "    H = enthalpy_result.HM.values[0, 0, :, :].flatten()\n",
    "\n",
    "    sort_idx = np.argsort(X)\n",
    "    X_sorted = X[sort_idx]\n",
    "    H_sorted = H[sort_idx]\n",
    "    S_sorted = S[sort_idx]\n",
    "\n",
    "    sort_idx = np.argsort(S)\n",
    "    X_sorted = X_sorted[sort_idx]\n",
    "    S_sorted = S_sorted[sort_idx]\n",
    "    H_sorted = H_sorted[sort_idx]\n",
    "\n",
    "    return X_sorted, S_sorted, H_sorted"
   ]
  },
  {
   "cell_type": "code",
   "execution_count": null,
   "metadata": {},
   "outputs": [],
   "source": [
    "# Calculate all the enthalpy as a funciton of the entropy and composition\n",
    "def format_enthalpy_ternary(entropy_result, enthalpy_result):\n",
    "    X1 = entropy_result.X.sel(component='FE').values[0, 0, :, :].flatten()\n",
    "    X2 = entropy_result.X.sel(component='AL').values[0, 0, :, :].flatten()\n",
    "    S = entropy_result.SM.values[0, 0, :, :].flatten()\n",
    "    H = enthalpy_result.HM.values[0, 0, :, :].flatten()\n",
    "\n",
    "    sort_idx = np.argsort(X1)\n",
    "    X1_sorted = X1[sort_idx]\n",
    "    X2_sorted = X2[sort_idx]\n",
    "    H_sorted = H[sort_idx]\n",
    "    S_sorted = S[sort_idx]\n",
    "\n",
    "    sort_idx = np.argsort(X2)\n",
    "    X1_sorted = X1_sorted[sort_idx]\n",
    "    X2_sorted = X2_sorted[sort_idx]\n",
    "    H_sorted = H_sorted[sort_idx]\n",
    "    S_sorted = S_sorted[sort_idx]\n",
    "\n",
    "    sort_idx = np.argsort(S)\n",
    "    X1_sorted = X1_sorted[sort_idx]\n",
    "    X2_sorted = X2_sorted[sort_idx]\n",
    "    H_sorted = H_sorted[sort_idx]\n",
    "    S_sorted = S_sorted[sort_idx]\n",
    "\n",
    "    return X1_sorted, X2_sorted, S_sorted, H_sorted"
   ]
  },
  {
   "cell_type": "markdown",
   "metadata": {},
   "source": [
    "#### Binary System"
   ]
  },
  {
   "cell_type": "code",
   "execution_count": null,
   "metadata": {},
   "outputs": [],
   "source": [
    "# Load database and choose the phases that will be plotted\n",
    "db = Database(r'../TDDatabaseFiles_temp/alfe.tdb')\n",
    "\n",
    "phases = list(db.phases.keys())\n",
    "constituents = list(db.elements)\n",
    "legend_handles, color_dict = phase_legend(phases)\n",
    "\n",
    "# These are the phases that don't have a good fit\n",
    "for phase in phases:\n",
    "    if phase in ['AL2FE', 'AL13FE4', 'AL5FE2']:\n",
    "        phases.remove(phase)\n",
    "\n",
    "print(\"Phases in Database:\", phases)\n",
    "print(\"Elements in Database:\", constituents)"
   ]
  },
  {
   "cell_type": "code",
   "execution_count": null,
   "metadata": {},
   "outputs": [],
   "source": [
    "# Here we need to compute the HSX data for the binary system\n",
    "temp_points_count = 60\n",
    "enthalpy_phase_dict = dict()\n",
    "for phase in phases:\n",
    "    print(phase)\n",
    "    entropy_result = calculate(db, constituents, phase, P=101325, T=np.linspace(300, 2000, temp_points_count), output = \"SM\")\n",
    "    enthalpy_result = calculate(db, constituents, phase, P=101325, T=np.linspace(300, 2000, temp_points_count), output = \"HM\")\n",
    "\n",
    "    X, S, H = format_enthalpy_binary(entropy_result, enthalpy_result)\n",
    "    enthalpy_phase_dict[phase] = (X, S, H)"
   ]
  },
  {
   "cell_type": "code",
   "execution_count": null,
   "metadata": {},
   "outputs": [],
   "source": [
    "# Keep only the equilibrium enthalpy points for each phase\n",
    "# We get these points by taking the lower convex hull of all the enthalpies\n",
    "eq_enthalpy_phase_dict = dict()\n",
    "for phase in phases:\n",
    "    print(phase)\n",
    "    X, S, H = enthalpy_phase_dict[phase]\n",
    "\n",
    "    # Put the points into the lower hull function\n",
    "    points = np.column_stack((X, S, H))\n",
    "    simplices = lower_convex_hull(points)\n",
    "\n",
    "    # Keep only the points that are in the lower hull\n",
    "    points = points[np.unique(simplices.ravel())]\n",
    "    eq_enthalpy_phase_dict[phase] = (points[:, 0], points[:, 1], points[:, 2])"
   ]
  },
  {
   "cell_type": "code",
   "execution_count": null,
   "metadata": {},
   "outputs": [],
   "source": [
    "# Fit polynomials, it doesnt matter if they are a bad fit\n",
    "phase_poly_dict = dict()\n",
    "for phase_name in phases:\n",
    "    X, S, H = eq_enthalpy_phase_dict[phase_name]\n",
    "\n",
    "    # Compute the fitted polynomial\n",
    "    energy_polynomial, res = fit_binary_HSX_surface(X, S, H)\n",
    "    phase_poly_dict[phase_name] = energy_polynomial\n",
    "    print(phase_name)\n",
    "    display(energy_polynomial)\n",
    "    print(\"residual:\", res)"
   ]
  },
  {
   "cell_type": "code",
   "execution_count": null,
   "metadata": {},
   "outputs": [],
   "source": [
    "save_sympy_dict_to_json_repr(phase_poly_dict, 'binary_polynomials.json')"
   ]
  },
  {
   "cell_type": "markdown",
   "metadata": {},
   "source": [
    "#### Ternary System"
   ]
  },
  {
   "cell_type": "code",
   "execution_count": null,
   "metadata": {},
   "outputs": [],
   "source": [
    "# Load database (ensure path is correct)\n",
    "db = Database(r'../TDDatabaseFiles_temp/Al-Fe-O_Lindwall_etal.TDB')\n",
    "\n",
    "# Extract available phases and elements\n",
    "phases = list(db.phases.keys())  \n",
    "constituents = list(db.elements)\n",
    "\n",
    "print(\"Phases in Database:\", phases)\n",
    "print(\"Elements in Database:\", constituents)"
   ]
  },
  {
   "cell_type": "code",
   "execution_count": null,
   "metadata": {},
   "outputs": [],
   "source": [
    "# Here we need to compute the HSX data for the ternary system\n",
    "temp_points_count = 60\n",
    "enthalpy_phase_dict = dict()\n",
    "for phase in phases:\n",
    "    print(phase)\n",
    "    entropy_result = calculate(db, constituents, phase, P=101325, T=np.linspace(300, 2000, temp_points_count), output = \"SM\")\n",
    "    enthalpy_result = calculate(db, constituents, phase, P=101325, T=np.linspace(300, 2000, temp_points_count), output = \"HM\")\n",
    "\n",
    "    X1, X2, S, H = format_enthalpy_ternary(entropy_result, enthalpy_result)\n",
    "    enthalpy_phase_dict[phase] = (X1, X2, S, H)"
   ]
  },
  {
   "cell_type": "markdown",
   "metadata": {},
   "source": [
    "The equilibrium code with the lower hull takes too long for the ternary system. For the moment it doesnt matter if the polynomials are a bad fit. I can try calculating the thermochemical data with equilibrium instead of calculate in the future."
   ]
  },
  {
   "cell_type": "code",
   "execution_count": null,
   "metadata": {},
   "outputs": [],
   "source": [
    "# # Keep only the equilibrium enthalpy points for each phase\n",
    "# # We get these points by taking the lower convex hull of all the enthalpies\n",
    "# eq_enthalpy_phase_dict = dict()\n",
    "# for phase in phases:\n",
    "#     print(phase)\n",
    "#     X1, X2, S, H = enthalpy_phase_dict[phase]\n",
    "\n",
    "#     # Put the points into the lower hull function\n",
    "#     points = np.column_stack((X1, X2, S, H))\n",
    "#     simplices = lower_convex_hull(points)\n",
    "\n",
    "#     # Keep only the points that are in the lower hull\n",
    "#     points = points[np.unique(simplices.ravel())]\n",
    "#     eq_enthalpy_phase_dict[phase] = (points[:, 0], points[:, 1], points[:, 2], points[:, 3])\n",
    "\n",
    "eq_enthalpy_phase_dict = enthalpy_phase_dict"
   ]
  },
  {
   "cell_type": "code",
   "execution_count": null,
   "metadata": {},
   "outputs": [],
   "source": [
    "# Fit polynomials, it doesnt matter if they are a bad fit\n",
    "phase_poly_dict = dict()\n",
    "for phase_name in phases:\n",
    "    X1, X2, S, H = eq_enthalpy_phase_dict[phase_name]\n",
    "\n",
    "    # Compute the fitted polynomial\n",
    "    energy_polynomial, res = fit_ternary_HSX_surface(X1, X2, S, H)\n",
    "    phase_poly_dict[phase_name] = energy_polynomial\n",
    "    print(phase_name)\n",
    "    display(energy_polynomial)\n",
    "    print(\"residual:\", res)"
   ]
  },
  {
   "cell_type": "code",
   "execution_count": null,
   "metadata": {},
   "outputs": [],
   "source": [
    "save_sympy_dict_to_json_repr(phase_poly_dict, 'ternary_polynomials.json')"
   ]
  }
 ],
 "metadata": {
  "kernelspec": {
   "display_name": "python3.12",
   "language": "python",
   "name": "python3"
  },
  "language_info": {
   "codemirror_mode": {
    "name": "ipython",
    "version": 3
   },
   "file_extension": ".py",
   "mimetype": "text/x-python",
   "name": "python",
   "nbconvert_exporter": "python",
   "pygments_lexer": "ipython3",
   "version": "3.12.8"
  }
 },
 "nbformat": 4,
 "nbformat_minor": 2
}
