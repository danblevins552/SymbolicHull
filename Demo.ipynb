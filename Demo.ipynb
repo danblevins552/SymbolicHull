{
 "cells": [
  {
   "cell_type": "code",
   "execution_count": null,
   "metadata": {},
   "outputs": [],
   "source": [
    "import numpy as np\n",
    "import sympy as sp\n",
    "from sympy import symbols, diff\n",
    "\n",
    "import matplotlib.pyplot as plt\n",
    "import plotly.graph_objects as go\n",
    "from skimage import measure\n",
    "\n",
    "from symbolic_hulls import *"
   ]
  },
  {
   "cell_type": "markdown",
   "metadata": {},
   "source": [
    "### Parabolic Functions in 2D"
   ]
  },
  {
   "cell_type": "code",
   "execution_count": null,
   "metadata": {},
   "outputs": [],
   "source": [
    "x, y = symbols('x y')\n",
    "xp, yp = symbols('x_p y_p')"
   ]
  },
  {
   "cell_type": "code",
   "execution_count": null,
   "metadata": {},
   "outputs": [],
   "source": [
    "f1 = x**2 + 3*x - 2\n",
    "f2 = 3*x**2 - 4*x - 5\n",
    "\n",
    "proj, variables, pvariables = projection_function(f1, f2)\n",
    "disc1 = recursive_discriminant(proj, variables)\n",
    "sols1 = [sp.N(sol) for sol in sp.solve(disc1, pvariables)]\n",
    "\n",
    "proj, variables, pvariables = projection_function(f2, f1)\n",
    "disc2 = recursive_discriminant(proj, variables)\n",
    "sols2 = [sp.N(sol) for sol in sp.solve(disc2, pvariables)]"
   ]
  },
  {
   "cell_type": "code",
   "execution_count": null,
   "metadata": {},
   "outputs": [],
   "source": [
    "x_space = np.linspace(-3, 7, 100)\n",
    "f1_vals = [f1.subs(x, val) for val in x_space]\n",
    "f2_vals = [f2.subs(x, val) for val in x_space]\n",
    "\n",
    "plt.plot(x_space, f1_vals, label='f1')\n",
    "plt.plot(x_space, f2_vals, label='f2')\n",
    "\n",
    "plt.plot(sols1, [f1.subs(x, sol) for sol in sols1], 'o', color='blue', label='f1 Tangent Points')\n",
    "plt.plot(sols2, [f2.subs(x, sol) for sol in sols2], 'o', color='orange', label='f2 Tangent Points')\n",
    "plt.legend()\n",
    "plt.show()"
   ]
  },
  {
   "cell_type": "markdown",
   "metadata": {},
   "source": [
    "### Higher Degree Functions in 3D"
   ]
  },
  {
   "cell_type": "code",
   "execution_count": null,
   "metadata": {},
   "outputs": [],
   "source": [
    "f1 = x**4 - x**2 + 2*y**2 + 1\n",
    "f2 = x**2 + y**2 + (1/2)\n",
    "\n",
    "proj, variables, pvariables = projection_function(f1, f2)\n",
    "disc1 = recursive_discriminant(proj, (x, y))\n",
    "display(disc1)\n",
    "\n",
    "proj, variables, pvariables = projection_function(f2, f1)\n",
    "disc2 = recursive_discriminant(proj, (x, y))\n",
    "display(disc2)"
   ]
  },
  {
   "cell_type": "code",
   "execution_count": null,
   "metadata": {},
   "outputs": [],
   "source": [
    "# Convert SymPy expressions to numerical functions\n",
    "f1_func = sp.lambdify((x, y), f1, 'numpy')\n",
    "f2_func = sp.lambdify((x, y), f2, 'numpy')\n",
    "\n",
    "disc1_func = sp.lambdify((xp, yp), disc1, 'numpy')\n",
    "disc2_func = sp.lambdify((xp, yp), disc2, 'numpy')\n",
    "\n",
    "# Define grid for plotting\n",
    "x_vals = np.linspace(-1.7, 1.7, 1000)\n",
    "y_vals = np.linspace(-1.7, 1.7, 1000)\n",
    "X, Y = np.meshgrid(x_vals, y_vals)\n",
    "\n",
    "# Compute function values\n",
    "F1_vals = f1_func(X, Y)\n",
    "F2_vals = f2_func(X, Y)\n",
    "Disc1_vals = disc1_func(X, Y)\n",
    "Disc2_vals = disc2_func(X, Y)\n",
    "\n",
    "# Plot the surfaces\n",
    "surface_f1 = go.Surface(x=X, y=Y, z=F1_vals, colorscale=[[0, \"blue\"], [1, \"blue\"]], name=\"f1 Surface\", showscale=False)\n",
    "surface_f2 = go.Surface(x=X, y=Y, z=F2_vals, colorscale=[[0, \"orange\"], [1, \"orange\"]], name=\"f2 Surface\", showscale=False)\n",
    "data = [surface_f1, surface_f2]\n",
    "\n",
    "# Plot the 0-level contours of the discriminants\n",
    "disc1_contours = measure.find_contours(Disc1_vals, level=0)\n",
    "disc2_contours = measure.find_contours(Disc2_vals, level=0)\n",
    "for contour in disc1_contours:\n",
    "    x_indices = contour[:, 1]\n",
    "    y_indices = contour[:, 0]\n",
    "\n",
    "    x_real = x_vals[(x_indices).astype(int)]\n",
    "    y_real = y_vals[(y_indices).astype(int)]\n",
    "\n",
    "    contour = go.Scatter3d(\n",
    "        x=x_real, \n",
    "        y=y_real, \n",
    "        z=f1_func(x_real, y_real),\n",
    "        mode='lines',\n",
    "        line=dict(color='black', width=3),\n",
    "    )\n",
    "\n",
    "    data.append(contour)\n",
    "\n",
    "for contour in disc2_contours:\n",
    "    x_indices = contour[:, 1]\n",
    "    y_indices = contour[:, 0]\n",
    "\n",
    "    x_real = x_vals[(x_indices).astype(int)]\n",
    "    y_real = y_vals[(y_indices).astype(int)]\n",
    "\n",
    "    contour = go.Scatter3d(\n",
    "        x=x_real, \n",
    "        y=y_real, \n",
    "        z=f2_func(x_real, y_real),\n",
    "        mode='lines',\n",
    "        line=dict(color='black', width=3)\n",
    "    )\n",
    "\n",
    "    data.append(contour)\n",
    "\n",
    "# Combine all plots\n",
    "fig = go.Figure(data=data)\n",
    "\n",
    "# Layout configuration\n",
    "fig.update_layout(\n",
    "    title=\"3D Plot of f1 and f2 with 0-Contour Levels of Discriminants\",\n",
    "    width=800,\n",
    "    height=800,\n",
    "    scene=dict(\n",
    "        xaxis_title=\"X-axis\",\n",
    "        yaxis_title=\"Y-axis\",\n",
    "        zaxis_title=\"Function Value\",\n",
    "        xaxis=dict(range=[-2, 2]),\n",
    "        yaxis=dict(range=[-2, 2]),\n",
    "        zaxis=dict(range=[-1, 3]),\n",
    "        aspectmode='cube',\n",
    "    )\n",
    ")\n",
    "\n",
    "fig.update_layout(showlegend=False)\n",
    "\n",
    "# Show the plot\n",
    "fig.show()"
   ]
  }
 ],
 "metadata": {
  "kernelspec": {
   "display_name": "python3.12",
   "language": "python",
   "name": "python3"
  },
  "language_info": {
   "codemirror_mode": {
    "name": "ipython",
    "version": 3
   },
   "file_extension": ".py",
   "mimetype": "text/x-python",
   "name": "python",
   "nbconvert_exporter": "python",
   "pygments_lexer": "ipython3",
   "version": "3.12.8"
  }
 },
 "nbformat": 4,
 "nbformat_minor": 2
}
